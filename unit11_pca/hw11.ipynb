{
 "cells": [
  {
   "cell_type": "code",
   "execution_count": 1,
   "metadata": {},
   "outputs": [],
   "source": [
    "import numpy as np\n",
    "import matplotlib.pyplot as plt"
   ]
  },
  {
   "cell_type": "markdown",
   "metadata": {},
   "source": [
    "Problem 1"
   ]
  },
  {
   "cell_type": "code",
   "execution_count": 2,
   "metadata": {},
   "outputs": [
    {
     "name": "stdout",
     "output_type": "stream",
     "text": [
      "[[3 2 1]\n",
      " [2 4 5]\n",
      " [1 2 3]\n",
      " [0 2 5]]\n",
      "[1.5 2.5 3.5]\n"
     ]
    }
   ],
   "source": [
    "X = np.array([[3, 2, 1],[2, 4, 5],[1, 2, 3],[0, 2, 5]])\n",
    "print(X)\n",
    "# sample mean\n",
    "xm = np.mean(X,axis=0)\n",
    "print(xm)"
   ]
  },
  {
   "cell_type": "code",
   "execution_count": 3,
   "metadata": {},
   "outputs": [
    {
     "name": "stdout",
     "output_type": "stream",
     "text": [
      "[[ 1.5 -0.5 -2.5]\n",
      " [ 0.5  1.5  1.5]\n",
      " [-0.5 -0.5 -0.5]\n",
      " [-1.5 -0.5  1.5]]\n",
      "[[ 1.25  0.25 -1.25]\n",
      " [ 0.25  0.75  0.75]\n",
      " [-1.25  0.75  2.75]]\n"
     ]
    }
   ],
   "source": [
    "# covariance matrix\n",
    "Xm = X - xm[None,:]\n",
    "print(Xm)\n",
    "Q = (1/X.shape[0])*Xm.T.dot(Xm)\n",
    "print(Q)"
   ]
  },
  {
   "cell_type": "code",
   "execution_count": 4,
   "metadata": {},
   "outputs": [
    {
     "name": "stdout",
     "output_type": "stream",
     "text": [
      "[3.56166464 1.1733803  0.01495506]\n",
      "[[-0.45056922 -0.66677184 -0.59363515]\n",
      " [ 0.19247228 -0.72187235  0.66472154]\n",
      " [ 0.87174641 -0.18524476 -0.45358856]]\n"
     ]
    }
   ],
   "source": [
    "e_values, e_vectors = np.linalg.eig(Q)\n",
    "print(e_values)\n",
    "print(e_vectors)"
   ]
  },
  {
   "cell_type": "code",
   "execution_count": 5,
   "metadata": {},
   "outputs": [
    {
     "name": "stdout",
     "output_type": "stream",
     "text": [
      "[[-2.95145599 -0.17610969 -0.0888421 ]\n",
      " [ 1.37104342 -1.69406159  0.0198819 ]\n",
      " [-0.30682473  0.78694448  0.19125108]\n",
      " [ 1.8872373   1.0832268  -0.12229089]]\n"
     ]
    }
   ],
   "source": [
    "Z = Xm.dot(e_vectors)\n",
    "print(Z)"
   ]
  },
  {
   "cell_type": "code",
   "execution_count": 10,
   "metadata": {},
   "outputs": [
    {
     "name": "stdout",
     "output_type": "stream",
     "text": [
      "[[3.0000000e+00 2.0000000e+00 1.0000000e+00]\n",
      " [2.0000000e+00 4.0000000e+00 5.0000000e+00]\n",
      " [1.0000000e+00 2.0000000e+00 3.0000000e+00]\n",
      " [8.8817842e-16 2.0000000e+00 5.0000000e+00]]\n"
     ]
    }
   ],
   "source": [
    "Xhat = xm + Z.dot(e_vectors.T)\n",
    "print(Xhat)"
   ]
  },
  {
   "cell_type": "code",
   "execution_count": 11,
   "metadata": {},
   "outputs": [
    {
     "name": "stdout",
     "output_type": "stream",
     "text": [
      "1.4791141972893971e-30\n"
     ]
    }
   ],
   "source": [
    "err = np.sum(np.sum((X-Xhat)**2, axis=1), axis=0)*(1/X.shape[0])\n",
    "print(err)"
   ]
  },
  {
   "cell_type": "code",
   "execution_count": 12,
   "metadata": {},
   "outputs": [
    {
     "name": "stdout",
     "output_type": "stream",
     "text": [
      "[[-2.95145599 -0.17610969]\n",
      " [ 1.37104342 -1.69406159]\n",
      " [-0.30682473  0.78694448]\n",
      " [ 1.8872373   1.0832268 ]]\n"
     ]
    }
   ],
   "source": [
    "# the first two columns are the eigenvectors corresponding to the two highest eigenvalues\n",
    "two_pc = e_vectors[:,:2]\n",
    "Z2 = Xm.dot(two_pc)\n",
    "print(Z2)"
   ]
  },
  {
   "cell_type": "code",
   "execution_count": 15,
   "metadata": {},
   "outputs": [
    {
     "name": "stdout",
     "output_type": "stream",
     "text": [
      "[[ 2.94726021  2.05905526  0.95970224]\n",
      " [ 2.0118026   3.98678407  5.0090182 ]\n",
      " [ 1.11353336  1.87287129  3.0867493 ]\n",
      " [-0.07259617  2.08128939  4.94453025]]\n"
     ]
    }
   ],
   "source": [
    "Xhat2 = xm + Z2.dot(two_pc.T)\n",
    "print(Xhat2)"
   ]
  },
  {
   "cell_type": "code",
   "execution_count": 16,
   "metadata": {},
   "outputs": [
    {
     "name": "stdout",
     "output_type": "stream",
     "text": [
      "0.059820245731225935\n"
     ]
    }
   ],
   "source": [
    "err2 = np.sum(np.sum((X-Xhat2)**2, axis=1), axis=0)\n",
    "print(err2)"
   ]
  },
  {
   "cell_type": "code",
   "execution_count": 17,
   "metadata": {},
   "outputs": [
    {
     "name": "stdout",
     "output_type": "stream",
     "text": [
      "0.05982024573122597\n"
     ]
    }
   ],
   "source": [
    "skipped = Xm.dot(e_vectors[:,2])\n",
    "err = np.sum(skipped**2)\n",
    "print(err)"
   ]
  },
  {
   "cell_type": "markdown",
   "metadata": {},
   "source": [
    "The sum of reconstruction error squares equals the sum of squares of skipped PCA coefficients."
   ]
  },
  {
   "cell_type": "code",
   "execution_count": 19,
   "metadata": {},
   "outputs": [
    {
     "name": "stdout",
     "output_type": "stream",
     "text": [
      "0.014955061432806484\n",
      "0.014955061432806133\n"
     ]
    }
   ],
   "source": [
    "print(err2*(1/X.shape[0]))\n",
    "print(e_values[2])"
   ]
  },
  {
   "cell_type": "markdown",
   "metadata": {},
   "source": [
    "The mean error is equal to the eigenvalue associated to the skipped eigenvector"
   ]
  },
  {
   "cell_type": "markdown",
   "metadata": {},
   "source": [
    "Problem 2"
   ]
  },
  {
   "cell_type": "code",
   "execution_count": 20,
   "metadata": {},
   "outputs": [],
   "source": [
    "u = np.array([1,0,2])\n",
    "v1 = np.array([1,1,0])*(1/np.sqrt(2))\n",
    "v2 = np.array([1,-1,0])*(1/np.sqrt(2))\n",
    "x = np.array([2,3,4])\n",
    "b = np.hstack((v1[:,None],v2[:,None]))"
   ]
  },
  {
   "cell_type": "code",
   "execution_count": 21,
   "metadata": {},
   "outputs": [
    {
     "name": "stdout",
     "output_type": "stream",
     "text": [
      "[ 2.82842712 -1.41421356]\n"
     ]
    }
   ],
   "source": [
    "y = (x-u).dot(b)\n",
    "print(y)"
   ]
  },
  {
   "cell_type": "code",
   "execution_count": 22,
   "metadata": {},
   "outputs": [
    {
     "name": "stdout",
     "output_type": "stream",
     "text": [
      "[2. 3. 2.]\n"
     ]
    }
   ],
   "source": [
    "xhat = u + y.dot(b.T)\n",
    "print(xhat)"
   ]
  },
  {
   "cell_type": "code",
   "execution_count": 23,
   "metadata": {},
   "outputs": [
    {
     "name": "stdout",
     "output_type": "stream",
     "text": [
      "4.0\n"
     ]
    }
   ],
   "source": [
    "print(np.sum((x-xhat)**2))"
   ]
  },
  {
   "cell_type": "code",
   "execution_count": null,
   "metadata": {},
   "outputs": [],
   "source": []
  }
 ],
 "metadata": {
  "kernelspec": {
   "display_name": "Python 3",
   "language": "python",
   "name": "python3"
  },
  "language_info": {
   "codemirror_mode": {
    "name": "ipython",
    "version": 3
   },
   "file_extension": ".py",
   "mimetype": "text/x-python",
   "name": "python",
   "nbconvert_exporter": "python",
   "pygments_lexer": "ipython3",
   "version": "3.6.10"
  }
 },
 "nbformat": 4,
 "nbformat_minor": 4
}
