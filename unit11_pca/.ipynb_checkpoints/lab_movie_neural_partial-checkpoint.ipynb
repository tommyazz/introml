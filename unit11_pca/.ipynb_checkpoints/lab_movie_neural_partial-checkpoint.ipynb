{
 "cells": [
  {
   "cell_type": "markdown",
   "metadata": {},
   "source": [
    "# Lab:  Low-Rank Approximation for Movie Recommendations\n",
    "\n",
    "A common application of low-rank approximation is for recommender systems.  In this lab, we will create a very primitive recommendation system for movies.  Through the lab, you will learn to:\n",
    "\n",
    "* Represent ratings data as a sparse matrix\n",
    "* Evaluate the mean absolute error (MAE) using simple movie or user biases\n",
    "* Create a low-rank model in Tensorflow for predicting the movie rating using `Embedding` layers\n",
    "* Train the model and optimize the embedding dimension.\n",
    "* Make predictions on new users."
   ]
  },
  {
   "cell_type": "markdown",
   "metadata": {},
   "source": [
    "## Loading the MovieLens Dataset\n",
    "\n",
    "We first load some common packages."
   ]
  },
  {
   "cell_type": "code",
   "execution_count": 1,
   "metadata": {},
   "outputs": [],
   "source": [
    "import pandas as pd\n",
    "import numpy as np\n",
    "import matplotlib.pyplot as plt"
   ]
  },
  {
   "cell_type": "markdown",
   "metadata": {},
   "source": [
    "[GroupLens](https://grouplens.org/) is a research organization at the University of Minnesota that has done extensive work in recommendation systems among other topics.  They have excellent datasets on movie recommendations as part of their [MovieLens project](https://movielens.org/).  In this lab, we will use a relatively small dataset, `Movielens 1m` that has 1 million ratings.  If you are interested in continuing research in this area, they have much larger datasets as well.  But, this relatively small one is sufficient to illustrate the basic concepts.\n",
    "\n",
    "To get the data, go to the webpage:\n",
    "\n",
    "https://grouplens.org/datasets/movielens/latest/\n",
    "\n",
    "and download and unzip the files, `ml-1m.zip`.  Alternatively, you can just run the following command which will download unzip the file for you."
   ]
  },
  {
   "cell_type": "code",
   "execution_count": null,
   "metadata": {},
   "outputs": [],
   "source": [
    "import tqdm\n",
    "import requests\n",
    "import os\n",
    "import zipfile\n",
    "\n",
    "# Set the files names for movies and ratings files\n",
    "ml_dir = 'ml-1m'\n",
    "ratings_fn = os.path.join(ml_dir,'ratings.dat')\n",
    "movies_fn = os.path.join(ml_dir,'movies.dat')\n",
    "\n",
    "def download_file(src_url, dst_fn):\n",
    "    \n",
    "    if os.path.exists(dst_fn):\n",
    "        print('File %s already exists' % dst_fn)\n",
    "        return\n",
    "    \n",
    "    print('Downloading %s' % dst_fn)\n",
    "    \n",
    "    # Streaming, so we can iterate over the response.\n",
    "    r = requests.get(src_url, stream=True)\n",
    "\n",
    "    # Total size in MB.\n",
    "    total_size = int(r.headers.get('content-length', 0)); \n",
    "    block_size = 1024\n",
    "    wrote = 0 \n",
    "    with open(dst_fn, 'wb') as f:\n",
    "        with tqdm.tqdm_notebook(total=total_size//block_size, unit='kB', \n",
    "                           unit_scale=True, unit_divisor=1024) as pbar:\n",
    "            for data in r.iter_content(block_size):\n",
    "                wrote = wrote + len(data)\n",
    "                pbar.update(1)\n",
    "                f.write(data)\n",
    "    if total_size != 0 and wrote != total_size:\n",
    "        print(\"ERROR, something went wrong\") \n",
    "\n",
    "# Test if all files are downloaded\n",
    "files_exists = False\n",
    "if os.path.exists(ml_dir):\n",
    "    if os.path.exists(ratings_fn) and os.path.exists(movies_fn):\n",
    "        files_exists = True\n",
    "\n",
    "if files_exists:\n",
    "    print('Files %s and %s already downloaded' % (ratings_fn, movies_fn))\n",
    "\n",
    "else:\n",
    "    # First download the zip file if needed\n",
    "    src_url = 'http://files.grouplens.org/datasets/movielens/ml-1m.zip'\n",
    "    dst_fn = 'ml-1m.zip'\n",
    "    download_file(src_url, dst_fn)\n",
    "    \n",
    "    # Then, unzip the file\n",
    "    print('Unzipping %s...' % dst_fn)\n",
    "    zip_ref = zipfile.ZipFile(dst_fn, 'r')\n",
    "    zip_ref.extractall('.')\n",
    "    zip_ref.close()\n",
    "    print('Unzip completed')"
   ]
  },
  {
   "cell_type": "markdown",
   "metadata": {},
   "source": [
    "Read the movies files with the `read_csv` command.  Print the first 5 entries of the dataframe.  You will see that the file has a list of movies.  Each movie has a `movieId` and `title`."
   ]
  },
  {
   "cell_type": "code",
   "execution_count": 2,
   "metadata": {},
   "outputs": [
    {
     "name": "stdout",
     "output_type": "stream",
     "text": [
      "(3883, 3)\n"
     ]
    },
    {
     "data": {
      "text/html": [
       "<div>\n",
       "<style scoped>\n",
       "    .dataframe tbody tr th:only-of-type {\n",
       "        vertical-align: middle;\n",
       "    }\n",
       "\n",
       "    .dataframe tbody tr th {\n",
       "        vertical-align: top;\n",
       "    }\n",
       "\n",
       "    .dataframe thead th {\n",
       "        text-align: right;\n",
       "    }\n",
       "</style>\n",
       "<table border=\"1\" class=\"dataframe\">\n",
       "  <thead>\n",
       "    <tr style=\"text-align: right;\">\n",
       "      <th></th>\n",
       "      <th>MovieId</th>\n",
       "      <th>Title</th>\n",
       "      <th>Genre</th>\n",
       "    </tr>\n",
       "  </thead>\n",
       "  <tbody>\n",
       "    <tr>\n",
       "      <th>0</th>\n",
       "      <td>1</td>\n",
       "      <td>Toy Story (1995)</td>\n",
       "      <td>Animation|Children's|Comedy</td>\n",
       "    </tr>\n",
       "    <tr>\n",
       "      <th>1</th>\n",
       "      <td>2</td>\n",
       "      <td>Jumanji (1995)</td>\n",
       "      <td>Adventure|Children's|Fantasy</td>\n",
       "    </tr>\n",
       "    <tr>\n",
       "      <th>2</th>\n",
       "      <td>3</td>\n",
       "      <td>Grumpier Old Men (1995)</td>\n",
       "      <td>Comedy|Romance</td>\n",
       "    </tr>\n",
       "    <tr>\n",
       "      <th>3</th>\n",
       "      <td>4</td>\n",
       "      <td>Waiting to Exhale (1995)</td>\n",
       "      <td>Comedy|Drama</td>\n",
       "    </tr>\n",
       "    <tr>\n",
       "      <th>4</th>\n",
       "      <td>5</td>\n",
       "      <td>Father of the Bride Part II (1995)</td>\n",
       "      <td>Comedy</td>\n",
       "    </tr>\n",
       "  </tbody>\n",
       "</table>\n",
       "</div>"
      ],
      "text/plain": [
       "   MovieId                               Title                         Genre\n",
       "0        1                    Toy Story (1995)   Animation|Children's|Comedy\n",
       "1        2                      Jumanji (1995)  Adventure|Children's|Fantasy\n",
       "2        3             Grumpier Old Men (1995)                Comedy|Romance\n",
       "3        4            Waiting to Exhale (1995)                  Comedy|Drama\n",
       "4        5  Father of the Bride Part II (1995)                        Comedy"
      ]
     },
     "execution_count": 2,
     "metadata": {},
     "output_type": "execute_result"
    }
   ],
   "source": [
    "# TODO:  Read the movies \n",
    "import os\n",
    "\n",
    "movies = pd.read_csv('ml-1m/movies.dat', delimiter='::', \n",
    "                     header=None, names=['MovieId','Title','Genre'], engine='python')\n",
    "# TODO:  Use the movies.head() to display the first 5 entries\n",
    "print(movies.shape)\n",
    "movies.head()"
   ]
  },
  {
   "cell_type": "markdown",
   "metadata": {},
   "source": [
    "Extract the following columns from the `movies` dataframe:\n",
    "*  Extract the `movieId` column, convert to an `np.array` and store in `movie_ids`\n",
    "*  Extract the `title` column, convert to a list (using `.tolist()`) and store in `titles`"
   ]
  },
  {
   "cell_type": "code",
   "execution_count": 3,
   "metadata": {},
   "outputs": [
    {
     "name": "stdout",
     "output_type": "stream",
     "text": [
      "3952\n",
      "3883\n"
     ]
    }
   ],
   "source": [
    "# TODO:\n",
    "movies_ids = movies['MovieId'].to_numpy()\n",
    "titles = movies['Title'].tolist()\n",
    "print(np.max(movies_ids))\n",
    "print(len(titles))"
   ]
  },
  {
   "cell_type": "markdown",
   "metadata": {},
   "source": [
    "The following function returns the string of a movie title, given its movie id."
   ]
  },
  {
   "cell_type": "code",
   "execution_count": 4,
   "metadata": {},
   "outputs": [],
   "source": [
    "def get_movie_title(movie_id):\n",
    "    I = np.where(movies_ids == movie_id)[0]\n",
    "    if len(I) == 0:\n",
    "        return 'unknown'\n",
    "    else:\n",
    "        return titles[I[0]]"
   ]
  },
  {
   "cell_type": "markdown",
   "metadata": {},
   "source": [
    "Load the `ratings.dat` file into a `pandas` dataframe `ratings`.  Use the `head` method to print the first five rows of the dataframe.  This is a large file, so it may take a minute to read in."
   ]
  },
  {
   "cell_type": "code",
   "execution_count": 5,
   "metadata": {},
   "outputs": [
    {
     "name": "stdout",
     "output_type": "stream",
     "text": [
      "(1000209, 4)\n"
     ]
    },
    {
     "data": {
      "text/html": [
       "<div>\n",
       "<style scoped>\n",
       "    .dataframe tbody tr th:only-of-type {\n",
       "        vertical-align: middle;\n",
       "    }\n",
       "\n",
       "    .dataframe tbody tr th {\n",
       "        vertical-align: top;\n",
       "    }\n",
       "\n",
       "    .dataframe thead th {\n",
       "        text-align: right;\n",
       "    }\n",
       "</style>\n",
       "<table border=\"1\" class=\"dataframe\">\n",
       "  <thead>\n",
       "    <tr style=\"text-align: right;\">\n",
       "      <th></th>\n",
       "      <th>UserId</th>\n",
       "      <th>MovieId</th>\n",
       "      <th>Rating</th>\n",
       "      <th>Timestamp</th>\n",
       "    </tr>\n",
       "  </thead>\n",
       "  <tbody>\n",
       "    <tr>\n",
       "      <th>0</th>\n",
       "      <td>1</td>\n",
       "      <td>1193</td>\n",
       "      <td>5</td>\n",
       "      <td>978300760</td>\n",
       "    </tr>\n",
       "    <tr>\n",
       "      <th>1</th>\n",
       "      <td>1</td>\n",
       "      <td>661</td>\n",
       "      <td>3</td>\n",
       "      <td>978302109</td>\n",
       "    </tr>\n",
       "    <tr>\n",
       "      <th>2</th>\n",
       "      <td>1</td>\n",
       "      <td>914</td>\n",
       "      <td>3</td>\n",
       "      <td>978301968</td>\n",
       "    </tr>\n",
       "    <tr>\n",
       "      <th>3</th>\n",
       "      <td>1</td>\n",
       "      <td>3408</td>\n",
       "      <td>4</td>\n",
       "      <td>978300275</td>\n",
       "    </tr>\n",
       "    <tr>\n",
       "      <th>4</th>\n",
       "      <td>1</td>\n",
       "      <td>2355</td>\n",
       "      <td>5</td>\n",
       "      <td>978824291</td>\n",
       "    </tr>\n",
       "  </tbody>\n",
       "</table>\n",
       "</div>"
      ],
      "text/plain": [
       "   UserId  MovieId  Rating  Timestamp\n",
       "0       1     1193       5  978300760\n",
       "1       1      661       3  978302109\n",
       "2       1      914       3  978301968\n",
       "3       1     3408       4  978300275\n",
       "4       1     2355       5  978824291"
      ]
     },
     "execution_count": 5,
     "metadata": {},
     "output_type": "execute_result"
    }
   ],
   "source": [
    "# TODO\n",
    "ratings = pd.read_csv('ml-1m/ratings.dat', delimiter='::', header=None, \n",
    "                      names=['UserId', 'MovieId', 'Rating', 'Timestamp'], engine='python')\n",
    "print(ratings.shape)\n",
    "ratings.head()"
   ]
  },
  {
   "cell_type": "markdown",
   "metadata": {},
   "source": [
    "Extract three columns from the `ratings` dataframe:\n",
    "\n",
    "* Set `user` to `ratings['userId']`,\n",
    "* Set `movie` to `ratings['movieId']`\n",
    "* Set `y` to `ratings['rating']`\n",
    "\n",
    "Convert to each to an `np.array`.  Print:\n",
    "\n",
    "* Total number of movies (the maximum movie index)\n",
    "* Total number of users\n",
    "* Total number of ratings\n",
    "* The average fraction of movies rated per user\n",
    "\n",
    "You should see that only a small fraction of the movies are rated by each user."
   ]
  },
  {
   "cell_type": "code",
   "execution_count": 6,
   "metadata": {},
   "outputs": [
    {
     "name": "stdout",
     "output_type": "stream",
     "text": [
      "The total number of movies is: 3952\n",
      "The total number of users is: 6040\n",
      "The total number of ratings is: 1000209\n"
     ]
    }
   ],
   "source": [
    "# TODO\n",
    "user = ratings['UserId'].to_numpy()\n",
    "movie = ratings['MovieId'].to_numpy()\n",
    "y = ratings['Rating'].to_numpy()\n",
    "\n",
    "print(f\"The total number of movies is: {np.max(movie)}\")\n",
    "print(f\"The total number of users is: {np.max(user)}\")\n",
    "print(f\"The total number of ratings is: {y.shape[0]}\")\n",
    "\n",
    "# check if a movie is NOT present in the movies title list\n",
    "for movie_id in movie:\n",
    "    if get_movie_title(movie_id) == 'unknown':\n",
    "        print(f\"Movie with id: {movie_id} not present\")\n",
    "\n",
    "tot_movies = len(titles)"
   ]
  },
  {
   "cell_type": "markdown",
   "metadata": {},
   "source": [
    "As reported in the documentation of the dataset (http://files.grouplens.org/datasets/movielens/ml-1m-README.txt). The user IDs go from 1 to 6040, whereas, the movie IDs from 1 to 3952.\n",
    "Actually, the total numer of movies should be 3883 (maybe not all movie IDs from 0 to 3952 are used). This comes from the size of the list \"titles\". In any case, I used the output of np.max(movie) as the total number of movies.\n",
    "The movie IDs in rating should be all present in the titles list as the check above is not priting \"not present\"."
   ]
  },
  {
   "cell_type": "code",
   "execution_count": 7,
   "metadata": {},
   "outputs": [
    {
     "name": "stdout",
     "output_type": "stream",
     "text": [
      "(6040,)\n",
      "1000209\n",
      "Each user has at least 20 ratings\n",
      "The average number of movies rated by a user is: 165.5975165562914\n",
      "The average fraction of movies rated per user is: 0.04190220560634904\n"
     ]
    }
   ],
   "source": [
    "_, counts = np.unique(user, return_counts=True)\n",
    "print(counts.shape)\n",
    "print(np.sum(counts))\n",
    "print(f\"Each user has at least {np.min(counts)} ratings\")\n",
    "print(f\"The average number of movies rated by a user is: {np.mean(counts)}\")\n",
    "fraction_mv_per_user = counts/np.max(movie)\n",
    "print(f\"The average fraction of movies rated per user is: {np.mean(fraction_mv_per_user)}\")"
   ]
  },
  {
   "cell_type": "code",
   "execution_count": 8,
   "metadata": {},
   "outputs": [
    {
     "name": "stdout",
     "output_type": "stream",
     "text": [
      "Number of movies that have been rated: 3706\n"
     ]
    }
   ],
   "source": [
    "_, mv_counts = np.unique(movie, return_counts=True)\n",
    "print(f\"Number of movies that have been rated: {mv_counts.shape[0]}\")"
   ]
  },
  {
   "cell_type": "markdown",
   "metadata": {},
   "source": [
    "Our goal will be to predict the rating `y` from the indices `movie` and `user`.  We need to split the data into training and test.\n",
    "Create training and test data of the form:\n",
    "\n",
    "* Training data:  `Xtr = [usertr, movietr]` and `ytr` for approximately 75% of the samples.\n",
    "* Test data:  `Xts = [userts, moviets]` and `yts` for approximately 25% of the samples."
   ]
  },
  {
   "cell_type": "code",
   "execution_count": 9,
   "metadata": {},
   "outputs": [
    {
     "name": "stdout",
     "output_type": "stream",
     "text": [
      "(750156, 2)\n",
      "(250053, 2)\n",
      "(750156,)\n",
      "(250053,)\n"
     ]
    }
   ],
   "source": [
    "# TODO\n",
    "from sklearn.model_selection import train_test_split\n",
    "X = np.hstack((user[:,None], movie[:,None]))\n",
    "Xtr, Xts, ytr, yts = train_test_split(X, y, test_size=.25)\n",
    "print(Xtr.shape)\n",
    "print(Xts.shape)\n",
    "print(ytr.shape)\n",
    "print(yts.shape)"
   ]
  },
  {
   "cell_type": "markdown",
   "metadata": {},
   "source": [
    "## Simple Rating Prediction Based on Average Rating\n",
    "\n",
    "Before we try to perform a complex algorithm for predicting a movie rating, we will first compute some simple statistics to get you familar with the data set.  First, compute the average movie rating across all movies in the training data set."
   ]
  },
  {
   "cell_type": "code",
   "execution_count": 10,
   "metadata": {},
   "outputs": [
    {
     "name": "stdout",
     "output_type": "stream",
     "text": [
      "Avg movie rating across all movies in the training dataset: 3.582121585376908\n"
     ]
    }
   ],
   "source": [
    "# TODO\n",
    "avg_mv_rating = np.mean(ytr)\n",
    "print(f\"Avg movie rating across all movies in the training dataset: {avg_mv_rating}\")"
   ]
  },
  {
   "cell_type": "markdown",
   "metadata": {},
   "source": [
    "Next, find the average rating per movie id. For each movie id, `i` compute `ymean[i]`, the average rating for that movie in the training data set and `ycnt[i]`, the number of ratings the movie had.  If `ycnt[i]==0`, set `ymean[i]=y0`, where `y0` is the average overall rating. \n",
    "\n",
    "You will want to think about how you do this computation efficiently since the data set `ytr` has a large number of entries.  Make you sure you go over the entries in `ytr` only once.  Even if you do it efficiently, it will take a minute, so you may want to add a progress bar."
   ]
  },
  {
   "cell_type": "code",
   "execution_count": 11,
   "metadata": {},
   "outputs": [
    {
     "name": "stdout",
     "output_type": "stream",
     "text": [
      "(3952,)\n"
     ]
    }
   ],
   "source": [
    "# TODO\n",
    "# get all the unique movie ids\n",
    "ymean = np.zeros((np.max(movie)))\n",
    "ycnt = np.zeros((np.max(movie)))\n",
    "print(ymean.shape)\n",
    "\n",
    "for mov_id, rate in zip(Xtr[:,1], ytr):\n",
    "    ymean[mov_id-1] += rate\n",
    "    ycnt[mov_id-1] += 1"
   ]
  },
  {
   "cell_type": "code",
   "execution_count": 12,
   "metadata": {},
   "outputs": [],
   "source": [
    "ycnt[ycnt == 0] = 1 # avoid 0/0. In any case ymean for movies that did not receive any rate will be zero, hence 0/1 \n",
    "ymean = ymean/ycnt\n",
    "ymean[ymean == 0] = avg_mv_rating"
   ]
  },
  {
   "cell_type": "markdown",
   "metadata": {},
   "source": [
    "Print all the movies that had an average rating over 4.8.  Print their titles, the average rating and the number of ratings they had.  You will see that most of the movies with very high ratings had very few ratings."
   ]
  },
  {
   "cell_type": "code",
   "execution_count": 13,
   "metadata": {},
   "outputs": [
    {
     "name": "stdout",
     "output_type": "stream",
     "text": [
      "Title: Lamerica (1994); Avg rating: 5.0; # of ratings: 4.0\n",
      "Title: Gate of Heavenly Peace, The (1995); Avg rating: 5.0; # of ratings: 3.0\n",
      "Title: Schlafes Bruder (Brother of Sleep) (1995); Avg rating: 5.0; # of ratings: 1.0\n",
      "Title: Follow the Bitch (1998); Avg rating: 5.0; # of ratings: 1.0\n",
      "Title: Inheritors, The (Die Siebtelbauern) (1998); Avg rating: 5.0; # of ratings: 1.0\n",
      "Title: Smashing Time (1967); Avg rating: 5.0; # of ratings: 2.0\n",
      "Title: I Am Cuba (Soy Cuba/Ya Kuba) (1964); Avg rating: 4.8; # of ratings: 5.0\n",
      "Title: Baby, The (1973); Avg rating: 5.0; # of ratings: 1.0\n",
      "Title: Song of Freedom (1936); Avg rating: 5.0; # of ratings: 1.0\n",
      "Title: One Little Indian (1973); Avg rating: 5.0; # of ratings: 1.0\n",
      "Title: Lured (1947); Avg rating: 5.0; # of ratings: 1.0\n",
      "Title: Bittersweet Motel (2000); Avg rating: 5.0; # of ratings: 1.0\n"
     ]
    }
   ],
   "source": [
    "# TODO\n",
    "indeces = np.where(ymean >= 4.8)[0]\n",
    "for i in indeces:\n",
    "    print(f\"Title: {get_movie_title(i+1)}; Avg rating: {ymean[i]}; # of ratings: {ycnt[i]}\")"
   ]
  },
  {
   "cell_type": "markdown",
   "metadata": {},
   "source": [
    "Now, for each `i` in the test data set, compute `yhat[i]` to be the mean rating for the movie in rating `i`.  Find the average value `|yhat[i]-yts[i]|`.  This is called the *mean absolute error* or MAE and is a common metric in evaluating recommendation predictions.  If you did everything correctly, you should get an MAE ~= 0.78.  That means that simply using the average movie rating by users will predict the rating of another user within 0.78 on average."
   ]
  },
  {
   "cell_type": "code",
   "execution_count": 14,
   "metadata": {},
   "outputs": [
    {
     "name": "stdout",
     "output_type": "stream",
     "text": [
      "The MAE is: 0.7822623011760091\n"
     ]
    }
   ],
   "source": [
    "# TODO\n",
    "yhat = np.zeros((yts.shape[0]))\n",
    "for i, mov_id in enumerate(Xts[:,1]):\n",
    "    yhat[i] = ymean[mov_id-1]\n",
    "\n",
    "mae = np.mean(np.abs(yhat-yts))\n",
    "print(f\"The MAE is: {mae}\")"
   ]
  },
  {
   "cell_type": "markdown",
   "metadata": {},
   "source": [
    "## Building a Neural Network Recommender\n",
    "We now build a neural network for predicting the ratings.  First, we load the necessary packages."
   ]
  },
  {
   "cell_type": "code",
   "execution_count": 15,
   "metadata": {},
   "outputs": [],
   "source": [
    "import tensorflow as tf\n",
    "\n",
    "from tensorflow.keras.layers import Input, Embedding, Dot, Reshape, Dense, Flatten, Add, Lambda\n",
    "from tensorflow.keras.models import Model\n",
    "import tensorflow.keras.backend as K\n",
    "from tensorflow.keras import regularizers\n",
    "from tensorflow.keras.optimizers import Adam, SGD, RMSprop"
   ]
  },
  {
   "cell_type": "markdown",
   "metadata": {},
   "source": [
    "We can now create a neural network in Tensorflow as follows:\n",
    "\n",
    "*  Set the embedding dimension to `emb_dim=4`.  \n",
    "*  Let `userid_in` and `movieid_in` be the input user and movie indices.  These can be created in Tensorflow with `Input` layers with `shape = (1,)`. \n",
    "*  The user index generates a bias `user_bias`.  Use an `Embedding` layer with `output_dim=1` followed by a `Flatten` layer.  \n",
    "*  The user index also generates a weight `user_wt`.  Use a second `Embedding` layer with `output_dim=emb_dim` followed by a `Flatten` layer.  \n",
    "*  The movie index generates biases `movie_bias` and `movie_wt` similar to the user bias.\n",
    "*  We then make the rating prediction with `yhat = Dot(user_wt, movie_wt) + user_bias + movie_bias`. \n",
    "*  Optionally, you can add bias and weight regularization, although I found these did not help significantly.\n",
    "*  Set the model to `mod = Model([userid_in, movieid_in], yhat)`.\n",
    "\n",
    "Print a summary of the model `mod.summary()`. \n"
   ]
  },
  {
   "cell_type": "code",
   "execution_count": 31,
   "metadata": {},
   "outputs": [],
   "source": [
    "def build_model(emb_dim, max_user_idx, max_movie_idx):\n",
    "    userid_in = Input(shape=(1,), name=\"userid_input\")\n",
    "    movieid_in = Input(shape=(1,), name=\"movieid_input\")\n",
    "    # biases\n",
    "    user_bias = Embedding(max_user_idx+1,1, name=\"user_bias_emb\")(userid_in)\n",
    "    user_bias = Flatten(name=\"user_bias_flat\")(user_bias)\n",
    "    movie_bias = Embedding(max_movie_idx+1,1, name=\"movie_bias_emb\")(movieid_in)\n",
    "    movie_bias = Flatten(name=\"movie_bias_flat\")(movie_bias)\n",
    "\n",
    "    if emb_dim > 0:\n",
    "        user_wt = Embedding(max_user_idx+1,emb_dim, name=\"user_wt_emb\")(userid_in)\n",
    "        user_wt = Flatten(name=\"user_wt_flat\")(user_wt)\n",
    "        movie_wt = Embedding(max_movie_idx+1,emb_dim, name=\"movie_wt_emb\")(movieid_in)\n",
    "        movie_wt = Flatten(name=\"movie_wt_flat\")(movie_wt)\n",
    "        dot = Dot(axes=1, name=\"dot_user_movie_wt\")([user_wt, movie_wt])\n",
    "        add1 = Add(name=\"add_dot_userbias\")([dot, user_bias])\n",
    "        yhat = Add(name=\"add_prevadd_moviebias\")([add1, movie_bias])\n",
    "    else:\n",
    "        yhat = Add(name=\"add_biases\")([user_bias, movie_bias])\n",
    "    \n",
    "    model = Model(inputs=[userid_in, movieid_in], outputs=yhat)\n",
    "    \n",
    "    return model"
   ]
  },
  {
   "cell_type": "code",
   "execution_count": 23,
   "metadata": {},
   "outputs": [
    {
     "name": "stdout",
     "output_type": "stream",
     "text": [
      "Model: \"functional_1\"\n",
      "__________________________________________________________________________________________________\n",
      "Layer (type)                    Output Shape         Param #     Connected to                     \n",
      "==================================================================================================\n",
      "userid_input (InputLayer)       [(None, 1)]          0                                            \n",
      "__________________________________________________________________________________________________\n",
      "movieid_input (InputLayer)      [(None, 1)]          0                                            \n",
      "__________________________________________________________________________________________________\n",
      "user_wt_emb (Embedding)         (None, 1, 4)         24164       userid_input[0][0]               \n",
      "__________________________________________________________________________________________________\n",
      "movie_wt_emb (Embedding)        (None, 1, 4)         15812       movieid_input[0][0]              \n",
      "__________________________________________________________________________________________________\n",
      "user_wt_flat (Flatten)          (None, 4)            0           user_wt_emb[0][0]                \n",
      "__________________________________________________________________________________________________\n",
      "movie_wt_flat (Flatten)         (None, 4)            0           movie_wt_emb[0][0]               \n",
      "__________________________________________________________________________________________________\n",
      "user_bias_emb (Embedding)       (None, 1, 1)         6041        userid_input[0][0]               \n",
      "__________________________________________________________________________________________________\n",
      "dot_user_movie_wt (Dot)         (None, 1)            0           user_wt_flat[0][0]               \n",
      "                                                                 movie_wt_flat[0][0]              \n",
      "__________________________________________________________________________________________________\n",
      "user_bias_flat (Flatten)        (None, 1)            0           user_bias_emb[0][0]              \n",
      "__________________________________________________________________________________________________\n",
      "movie_bias_emb (Embedding)      (None, 1, 1)         3953        movieid_input[0][0]              \n",
      "__________________________________________________________________________________________________\n",
      "add_dot_userbias (Add)          (None, 1)            0           dot_user_movie_wt[0][0]          \n",
      "                                                                 user_bias_flat[0][0]             \n",
      "__________________________________________________________________________________________________\n",
      "movie_bias_flat (Flatten)       (None, 1)            0           movie_bias_emb[0][0]             \n",
      "__________________________________________________________________________________________________\n",
      "add_prevadd_moviebias (Add)     (None, 1)            0           add_dot_userbias[0][0]           \n",
      "                                                                 movie_bias_flat[0][0]            \n",
      "==================================================================================================\n",
      "Total params: 49,970\n",
      "Trainable params: 49,970\n",
      "Non-trainable params: 0\n",
      "__________________________________________________________________________________________________\n"
     ]
    }
   ],
   "source": [
    "# TODO:\n",
    "K.clear_session()\n",
    "emb_dim = 4\n",
    "max_user_idx = np.max(user)\n",
    "max_movie_idx = np.max(movie)\n",
    "\n",
    "model = build_model(emb_dim, max_user_idx, max_movie_idx)\n",
    "model.summary()"
   ]
  },
  {
   "cell_type": "markdown",
   "metadata": {},
   "source": [
    "Compile the model with `Adam` optimizer with a learning rate of `0.01` (I found these numbers to work out well).  Use the \n",
    "`'mean_absolute_error'` loss.  Then fit the model with 8 epochs.  Use a batch size of 1000.  "
   ]
  },
  {
   "cell_type": "code",
   "execution_count": 24,
   "metadata": {},
   "outputs": [],
   "source": [
    "# TODO\n",
    "opt = Adam(lr=0.01)\n",
    "model.compile(optimizer=opt,\n",
    "              loss='mean_absolute_error',\n",
    "              metrics=['mean_absolute_error'])"
   ]
  },
  {
   "cell_type": "code",
   "execution_count": 25,
   "metadata": {},
   "outputs": [
    {
     "name": "stdout",
     "output_type": "stream",
     "text": [
      "Epoch 1/8\n",
      "751/751 [==============================] - 1s 2ms/step - loss: 1.1398 - mean_absolute_error: 1.1398 - val_loss: 0.7458 - val_mean_absolute_error: 0.7458\n",
      "Epoch 2/8\n",
      "751/751 [==============================] - 1s 2ms/step - loss: 0.7393 - mean_absolute_error: 0.7393 - val_loss: 0.7383 - val_mean_absolute_error: 0.7383\n",
      "Epoch 3/8\n",
      "751/751 [==============================] - 1s 2ms/step - loss: 0.7268 - mean_absolute_error: 0.7268 - val_loss: 0.7273 - val_mean_absolute_error: 0.7273\n",
      "Epoch 4/8\n",
      "751/751 [==============================] - 1s 2ms/step - loss: 0.7092 - mean_absolute_error: 0.7092 - val_loss: 0.7164 - val_mean_absolute_error: 0.7164\n",
      "Epoch 5/8\n",
      "751/751 [==============================] - 1s 2ms/step - loss: 0.6961 - mean_absolute_error: 0.6961 - val_loss: 0.7102 - val_mean_absolute_error: 0.7102\n",
      "Epoch 6/8\n",
      "751/751 [==============================] - 1s 2ms/step - loss: 0.6878 - mean_absolute_error: 0.6878 - val_loss: 0.7068 - val_mean_absolute_error: 0.7068\n",
      "Epoch 7/8\n",
      "751/751 [==============================] - 1s 2ms/step - loss: 0.6822 - mean_absolute_error: 0.6822 - val_loss: 0.7066 - val_mean_absolute_error: 0.7066\n",
      "Epoch 8/8\n",
      "751/751 [==============================] - 1s 2ms/step - loss: 0.6785 - mean_absolute_error: 0.6785 - val_loss: 0.7048 - val_mean_absolute_error: 0.7048\n"
     ]
    }
   ],
   "source": [
    "hist = model.fit([Xtr[:,0], Xtr[:,1]], ytr, validation_data=([Xts[:,0], Xts[:,1]], yts), \n",
    "                 batch_size=1000, epochs=8)"
   ]
  },
  {
   "cell_type": "markdown",
   "metadata": {},
   "source": [
    "Print the training and test loss as a function of the epochs.  If you did it correctly the final test loss should be around  0.71 and the training loss should be 0.68.  This is a little better than the MAE you get just using the average movie rating."
   ]
  },
  {
   "cell_type": "code",
   "execution_count": 26,
   "metadata": {},
   "outputs": [
    {
     "data": {
      "image/png": "[encoded data removed]",
      "text/plain": [
       "<Figure size 864x432 with 1 Axes>"
      ]
     },
     "metadata": {
      "needs_background": "light"
     },
     "output_type": "display_data"
    }
   ],
   "source": [
    "# TODO\n",
    "train_loss = hist.history['loss']\n",
    "test_loss = hist.history['val_loss']\n",
    "plt.figure(figsize=(12,6))\n",
    "plt.plot(train_loss, 'o-', label=\"Train Loss\")\n",
    "plt.plot(test_loss, 'o-', label=\"Test Loss\")\n",
    "plt.xlabel(\"Epoch\", fontsize=12)\n",
    "plt.ylabel(\"Loss\", fontsize=12)\n",
    "plt.legend(loc='upper right', fontsize=12)\n",
    "plt.title(\"Training Loss vs Test Loss for each epoch\", fontsize=12)\n",
    "plt.grid()"
   ]
  },
  {
   "cell_type": "markdown",
   "metadata": {},
   "source": [
    "## Making Predictions!\n",
    "\n",
    "Select a random user, `user_id`.  Then, for each movie index, use the model to predict the ratings. Set the predictions to `yhat`."
   ]
  },
  {
   "cell_type": "code",
   "execution_count": 27,
   "metadata": {},
   "outputs": [
    {
     "name": "stdout",
     "output_type": "stream",
     "text": [
      "(3883,)\n",
      "(3883, 1)\n"
     ]
    }
   ],
   "source": [
    "# TODO\n",
    "print(movies_ids.shape) # numpy array with all the distinct movie ids \n",
    "user_id = np.random.randint(1, max_user_idx+1)\n",
    "yhat = model.predict([np.repeat(user_id, movies_ids.shape[0]), movies_ids])\n",
    "print(yhat.shape)"
   ]
  },
  {
   "cell_type": "markdown",
   "metadata": {},
   "source": [
    "Print the names of the movies with the top 10 predicted ratings for the user as well as the average rating that those movies had.  You will see that the network may predict ratings above 5!  We could have avoided this by limiting the output."
   ]
  },
  {
   "cell_type": "code",
   "execution_count": 28,
   "metadata": {},
   "outputs": [],
   "source": [
    "ymean_all = np.zeros((np.max(movie)))\n",
    "ycnt_all = np.zeros((np.max(movie)))\n",
    "for mov_id, rate in zip(X[:,1], y):\n",
    "    ymean_all[mov_id-1] += rate\n",
    "    ycnt_all[mov_id-1] += 1\n",
    "\n",
    "ycnt_all[ycnt_all == 0] = 1 \n",
    "ymean_all = ymean_all/ycnt_all"
   ]
  },
  {
   "cell_type": "code",
   "execution_count": 30,
   "metadata": {},
   "outputs": [
    {
     "name": "stdout",
     "output_type": "stream",
     "text": [
      "Mamma Roma (1962); Avg Rating: 4.5; Pred User rating: 5.520522594451904\n",
      "Schlafes Bruder (Brother of Sleep) (1995); Avg Rating: 5.0; Pred User rating: 5.441361427307129\n",
      "Lured (1947); Avg Rating: 5.0; Pred User rating: 4.893342018127441\n",
      "Follow the Bitch (1998); Avg Rating: 5.0; Pred User rating: 4.791652679443359\n",
      "Inheritors, The (Die Siebtelbauern) (1998); Avg Rating: 4.5; Pred User rating: 4.6820526123046875\n",
      "Leather Jacket Love Story (1997); Avg Rating: 4.0; Pred User rating: 4.6197662353515625\n",
      "Killer (Bulletproof Heart) (1994); Avg Rating: 3.6153846153846154; Pred User rating: 4.599854469299316\n",
      "Bittersweet Motel (2000); Avg Rating: 5.0; Pred User rating: 4.577785015106201\n",
      "Sonic Outlaws (1995); Avg Rating: 4.0; Pred User rating: 4.5408735275268555\n",
      "Boys Life 2 (1997); Avg Rating: 3.4; Pred User rating: 4.523519515991211\n"
     ]
    }
   ],
   "source": [
    "# TODO\n",
    "yhat = yhat.reshape(-1)\n",
    "sorted_yhat = np.flipud(np.sort(yhat))\n",
    "sorted_inds = np.flipud(np.argsort(yhat))\n",
    "top_movie_ids = movies_ids[sorted_inds]\n",
    "for i,mov_id in enumerate(top_movie_ids[:10]):\n",
    "    print(f\"{get_movie_title(mov_id)}; Avg Rating: {ymean_all[mov_id-1]}; Pred User rating: {sorted_yhat[i]}\")"
   ]
  },
  {
   "cell_type": "markdown",
   "metadata": {},
   "source": [
    "## Bonus:  Optimizing the Embedding Dimension\n",
    "\n",
    "You can try to optimize the embedding dimension.  Try different dimensions from 0 to 8.  "
   ]
  },
  {
   "cell_type": "code",
   "execution_count": 34,
   "metadata": {},
   "outputs": [
    {
     "name": "stdout",
     "output_type": "stream",
     "text": [
      "Epoch 1/8\n",
      "751/751 [==============================] - 1s 1ms/step - loss: 1.3740 - mean_absolute_error: 1.3740 - val_loss: 0.7529 - val_mean_absolute_error: 0.7529\n",
      "Epoch 2/8\n",
      "751/751 [==============================] - 1s 1ms/step - loss: 0.7287 - mean_absolute_error: 0.7287 - val_loss: 0.7205 - val_mean_absolute_error: 0.7205\n",
      "Epoch 3/8\n",
      "751/751 [==============================] - 1s 1ms/step - loss: 0.7153 - mean_absolute_error: 0.7153 - val_loss: 0.7176 - val_mean_absolute_error: 0.7176\n",
      "Epoch 4/8\n",
      "751/751 [==============================] - 1s 1ms/step - loss: 0.7133 - mean_absolute_error: 0.7133 - val_loss: 0.7179 - val_mean_absolute_error: 0.7179\n",
      "Epoch 5/8\n",
      "751/751 [==============================] - 1s 1ms/step - loss: 0.7128 - mean_absolute_error: 0.7128 - val_loss: 0.7176 - val_mean_absolute_error: 0.7176\n",
      "Epoch 6/8\n",
      "751/751 [==============================] - 1s 1ms/step - loss: 0.7126 - mean_absolute_error: 0.7126 - val_loss: 0.7179 - val_mean_absolute_error: 0.7179\n",
      "Epoch 7/8\n",
      "751/751 [==============================] - 1s 1ms/step - loss: 0.7124 - mean_absolute_error: 0.7124 - val_loss: 0.7175 - val_mean_absolute_error: 0.7175\n",
      "Epoch 8/8\n",
      "751/751 [==============================] - 1s 1ms/step - loss: 0.7124 - mean_absolute_error: 0.7124 - val_loss: 0.7175 - val_mean_absolute_error: 0.7175\n",
      "Epoch 1/8\n",
      "751/751 [==============================] - 1s 2ms/step - loss: 1.2319 - mean_absolute_error: 1.2319 - val_loss: 0.7349 - val_mean_absolute_error: 0.7349\n",
      "Epoch 2/8\n",
      "751/751 [==============================] - 1s 1ms/step - loss: 0.7270 - mean_absolute_error: 0.7270 - val_loss: 0.7256 - val_mean_absolute_error: 0.7256\n",
      "Epoch 3/8\n",
      "751/751 [==============================] - 1s 1ms/step - loss: 0.7205 - mean_absolute_error: 0.7205 - val_loss: 0.7229 - val_mean_absolute_error: 0.7229\n",
      "Epoch 4/8\n",
      "751/751 [==============================] - 1s 2ms/step - loss: 0.7166 - mean_absolute_error: 0.7166 - val_loss: 0.7198 - val_mean_absolute_error: 0.7198\n",
      "Epoch 5/8\n",
      "751/751 [==============================] - 1s 2ms/step - loss: 0.7132 - mean_absolute_error: 0.7132 - val_loss: 0.7174 - val_mean_absolute_error: 0.7174\n",
      "Epoch 6/8\n",
      "751/751 [==============================] - 1s 2ms/step - loss: 0.7096 - mean_absolute_error: 0.7096 - val_loss: 0.7145 - val_mean_absolute_error: 0.7145\n",
      "Epoch 7/8\n",
      "751/751 [==============================] - 1s 2ms/step - loss: 0.7064 - mean_absolute_error: 0.7064 - val_loss: 0.7123 - val_mean_absolute_error: 0.7123\n",
      "Epoch 8/8\n",
      "751/751 [==============================] - 1s 2ms/step - loss: 0.7037 - mean_absolute_error: 0.7037 - val_loss: 0.7105 - val_mean_absolute_error: 0.7105\n",
      "Epoch 1/8\n",
      "751/751 [==============================] - 1s 2ms/step - loss: 1.1895 - mean_absolute_error: 1.1895 - val_loss: 0.7377 - val_mean_absolute_error: 0.7377\n",
      "Epoch 2/8\n",
      "751/751 [==============================] - 1s 2ms/step - loss: 0.7296 - mean_absolute_error: 0.7296 - val_loss: 0.7266 - val_mean_absolute_error: 0.7266\n",
      "Epoch 3/8\n",
      "751/751 [==============================] - 1s 2ms/step - loss: 0.7174 - mean_absolute_error: 0.7174 - val_loss: 0.7173 - val_mean_absolute_error: 0.7173\n",
      "Epoch 4/8\n",
      "751/751 [==============================] - 1s 2ms/step - loss: 0.7065 - mean_absolute_error: 0.7065 - val_loss: 0.7122 - val_mean_absolute_error: 0.7122\n",
      "Epoch 5/8\n",
      "751/751 [==============================] - 1s 2ms/step - loss: 0.7003 - mean_absolute_error: 0.7003 - val_loss: 0.7086 - val_mean_absolute_error: 0.7086\n",
      "Epoch 6/8\n",
      "751/751 [==============================] - 1s 2ms/step - loss: 0.6963 - mean_absolute_error: 0.6963 - val_loss: 0.7075 - val_mean_absolute_error: 0.7075\n",
      "Epoch 7/8\n",
      "751/751 [==============================] - 1s 2ms/step - loss: 0.6936 - mean_absolute_error: 0.6936 - val_loss: 0.7066 - val_mean_absolute_error: 0.7066\n",
      "Epoch 8/8\n",
      "751/751 [==============================] - 1s 2ms/step - loss: 0.6914 - mean_absolute_error: 0.6914 - val_loss: 0.7052 - val_mean_absolute_error: 0.7052\n",
      "Epoch 1/8\n",
      "751/751 [==============================] - 1s 2ms/step - loss: 1.1761 - mean_absolute_error: 1.1761 - val_loss: 0.7420 - val_mean_absolute_error: 0.7420\n",
      "Epoch 2/8\n",
      "751/751 [==============================] - 1s 2ms/step - loss: 0.7338 - mean_absolute_error: 0.7338 - val_loss: 0.7305 - val_mean_absolute_error: 0.7305\n",
      "Epoch 3/8\n",
      "751/751 [==============================] - 1s 2ms/step - loss: 0.7193 - mean_absolute_error: 0.7193 - val_loss: 0.7177 - val_mean_absolute_error: 0.7177\n",
      "Epoch 4/8\n",
      "751/751 [==============================] - 1s 2ms/step - loss: 0.7045 - mean_absolute_error: 0.7045 - val_loss: 0.7102 - val_mean_absolute_error: 0.7102\n",
      "Epoch 5/8\n",
      "751/751 [==============================] - 1s 2ms/step - loss: 0.6957 - mean_absolute_error: 0.6957 - val_loss: 0.7084 - val_mean_absolute_error: 0.7084\n",
      "Epoch 6/8\n",
      "751/751 [==============================] - 1s 2ms/step - loss: 0.6900 - mean_absolute_error: 0.6900 - val_loss: 0.7053 - val_mean_absolute_error: 0.7053\n",
      "Epoch 7/8\n",
      "751/751 [==============================] - 1s 2ms/step - loss: 0.6863 - mean_absolute_error: 0.6863 - val_loss: 0.7046 - val_mean_absolute_error: 0.7046\n",
      "Epoch 8/8\n",
      "751/751 [==============================] - 1s 2ms/step - loss: 0.6835 - mean_absolute_error: 0.6835 - val_loss: 0.7037 - val_mean_absolute_error: 0.7037\n",
      "Epoch 1/8\n",
      "751/751 [==============================] - 1s 2ms/step - loss: 1.1643 - mean_absolute_error: 1.1643 - val_loss: 0.7410 - val_mean_absolute_error: 0.7410\n",
      "Epoch 2/8\n",
      "751/751 [==============================] - 1s 2ms/step - loss: 0.7280 - mean_absolute_error: 0.7280 - val_loss: 0.7235 - val_mean_absolute_error: 0.7235\n",
      "Epoch 3/8\n",
      "751/751 [==============================] - 1s 2ms/step - loss: 0.7087 - mean_absolute_error: 0.7087 - val_loss: 0.7135 - val_mean_absolute_error: 0.7135\n",
      "Epoch 4/8\n",
      "751/751 [==============================] - 1s 2ms/step - loss: 0.6959 - mean_absolute_error: 0.6959 - val_loss: 0.7080 - val_mean_absolute_error: 0.7080\n",
      "Epoch 5/8\n",
      "751/751 [==============================] - 1s 2ms/step - loss: 0.6873 - mean_absolute_error: 0.6873 - val_loss: 0.7033 - val_mean_absolute_error: 0.7033\n",
      "Epoch 6/8\n",
      "751/751 [==============================] - 2s 2ms/step - loss: 0.6814 - mean_absolute_error: 0.6814 - val_loss: 0.7019 - val_mean_absolute_error: 0.7019\n",
      "Epoch 7/8\n",
      "751/751 [==============================] - 2s 2ms/step - loss: 0.6773 - mean_absolute_error: 0.6773 - val_loss: 0.7003 - val_mean_absolute_error: 0.7003\n",
      "Epoch 8/8\n",
      "751/751 [==============================] - 1s 2ms/step - loss: 0.6745 - mean_absolute_error: 0.6745 - val_loss: 0.7005 - val_mean_absolute_error: 0.7005\n",
      "Epoch 1/8\n",
      "751/751 [==============================] - 1s 2ms/step - loss: 1.1220 - mean_absolute_error: 1.1220 - val_loss: 0.7478 - val_mean_absolute_error: 0.7478\n",
      "Epoch 2/8\n",
      "751/751 [==============================] - 1s 2ms/step - loss: 0.7350 - mean_absolute_error: 0.7350 - val_loss: 0.7338 - val_mean_absolute_error: 0.7338\n",
      "Epoch 3/8\n",
      "751/751 [==============================] - 1s 2ms/step - loss: 0.7193 - mean_absolute_error: 0.7193 - val_loss: 0.7236 - val_mean_absolute_error: 0.7236\n",
      "Epoch 4/8\n",
      "751/751 [==============================] - 1s 2ms/step - loss: 0.7049 - mean_absolute_error: 0.7049 - val_loss: 0.7148 - val_mean_absolute_error: 0.7148\n",
      "Epoch 5/8\n",
      "751/751 [==============================] - 1s 2ms/step - loss: 0.6921 - mean_absolute_error: 0.6921 - val_loss: 0.7103 - val_mean_absolute_error: 0.7103\n",
      "Epoch 6/8\n",
      "751/751 [==============================] - 1s 2ms/step - loss: 0.6837 - mean_absolute_error: 0.6837 - val_loss: 0.7076 - val_mean_absolute_error: 0.7076\n",
      "Epoch 7/8\n",
      "751/751 [==============================] - 1s 2ms/step - loss: 0.6777 - mean_absolute_error: 0.6777 - val_loss: 0.7061 - val_mean_absolute_error: 0.7061\n",
      "Epoch 8/8\n",
      "751/751 [==============================] - 1s 2ms/step - loss: 0.6727 - mean_absolute_error: 0.6727 - val_loss: 0.7049 - val_mean_absolute_error: 0.7049\n",
      "Epoch 1/8\n",
      "751/751 [==============================] - 1s 2ms/step - loss: 1.1218 - mean_absolute_error: 1.1218 - val_loss: 0.7532 - val_mean_absolute_error: 0.7532\n",
      "Epoch 2/8\n",
      "751/751 [==============================] - 1s 2ms/step - loss: 0.7404 - mean_absolute_error: 0.7404 - val_loss: 0.7373 - val_mean_absolute_error: 0.7373\n",
      "Epoch 3/8\n"
     ]
    },
    {
     "name": "stdout",
     "output_type": "stream",
     "text": [
      "751/751 [==============================] - 1s 2ms/step - loss: 0.7161 - mean_absolute_error: 0.7161 - val_loss: 0.7181 - val_mean_absolute_error: 0.7181\n",
      "Epoch 4/8\n",
      "751/751 [==============================] - 1s 2ms/step - loss: 0.6962 - mean_absolute_error: 0.6962 - val_loss: 0.7111 - val_mean_absolute_error: 0.7111\n",
      "Epoch 5/8\n",
      "751/751 [==============================] - 1s 2ms/step - loss: 0.6845 - mean_absolute_error: 0.6845 - val_loss: 0.7079 - val_mean_absolute_error: 0.7079\n",
      "Epoch 6/8\n",
      "751/751 [==============================] - 1s 2ms/step - loss: 0.6758 - mean_absolute_error: 0.6758 - val_loss: 0.7068 - val_mean_absolute_error: 0.7068\n",
      "Epoch 7/8\n",
      "751/751 [==============================] - 1s 2ms/step - loss: 0.6700 - mean_absolute_error: 0.6700 - val_loss: 0.7043 - val_mean_absolute_error: 0.7043\n",
      "Epoch 8/8\n",
      "751/751 [==============================] - 1s 2ms/step - loss: 0.6661 - mean_absolute_error: 0.6661 - val_loss: 0.7038 - val_mean_absolute_error: 0.7038\n",
      "Epoch 1/8\n",
      "751/751 [==============================] - 1s 2ms/step - loss: 1.1110 - mean_absolute_error: 1.1110 - val_loss: 0.7434 - val_mean_absolute_error: 0.7434\n",
      "Epoch 2/8\n",
      "751/751 [==============================] - 1s 2ms/step - loss: 0.7277 - mean_absolute_error: 0.7277 - val_loss: 0.7257 - val_mean_absolute_error: 0.7257\n",
      "Epoch 3/8\n",
      "751/751 [==============================] - 1s 2ms/step - loss: 0.7090 - mean_absolute_error: 0.7090 - val_loss: 0.7193 - val_mean_absolute_error: 0.7193\n",
      "Epoch 4/8\n",
      "751/751 [==============================] - 1s 2ms/step - loss: 0.6959 - mean_absolute_error: 0.6959 - val_loss: 0.7168 - val_mean_absolute_error: 0.7168\n",
      "Epoch 5/8\n",
      "751/751 [==============================] - 1s 2ms/step - loss: 0.6855 - mean_absolute_error: 0.6855 - val_loss: 0.7131 - val_mean_absolute_error: 0.7131\n",
      "Epoch 6/8\n",
      "751/751 [==============================] - 1s 2ms/step - loss: 0.6761 - mean_absolute_error: 0.6761 - val_loss: 0.7107 - val_mean_absolute_error: 0.7107\n",
      "Epoch 7/8\n",
      "751/751 [==============================] - 1s 2ms/step - loss: 0.6691 - mean_absolute_error: 0.6691 - val_loss: 0.7096 - val_mean_absolute_error: 0.7096\n",
      "Epoch 8/8\n",
      "751/751 [==============================] - 1s 2ms/step - loss: 0.6639 - mean_absolute_error: 0.6639 - val_loss: 0.7074 - val_mean_absolute_error: 0.7074\n",
      "Epoch 1/8\n",
      "751/751 [==============================] - 1s 2ms/step - loss: 1.1205 - mean_absolute_error: 1.1205 - val_loss: 0.7537 - val_mean_absolute_error: 0.7537\n",
      "Epoch 2/8\n",
      "751/751 [==============================] - 1s 2ms/step - loss: 0.7335 - mean_absolute_error: 0.7335 - val_loss: 0.7285 - val_mean_absolute_error: 0.7285\n",
      "Epoch 3/8\n",
      "751/751 [==============================] - 1s 2ms/step - loss: 0.7057 - mean_absolute_error: 0.7057 - val_loss: 0.7171 - val_mean_absolute_error: 0.7171\n",
      "Epoch 4/8\n",
      "751/751 [==============================] - 1s 2ms/step - loss: 0.6869 - mean_absolute_error: 0.6869 - val_loss: 0.7108 - val_mean_absolute_error: 0.7108\n",
      "Epoch 5/8\n",
      "751/751 [==============================] - 1s 2ms/step - loss: 0.6743 - mean_absolute_error: 0.6743 - val_loss: 0.7079 - val_mean_absolute_error: 0.7079\n",
      "Epoch 6/8\n",
      "751/751 [==============================] - 2s 2ms/step - loss: 0.6657 - mean_absolute_error: 0.6657 - val_loss: 0.7091 - val_mean_absolute_error: 0.7091\n",
      "Epoch 7/8\n",
      "751/751 [==============================] - 1s 2ms/step - loss: 0.6597 - mean_absolute_error: 0.6597 - val_loss: 0.7066 - val_mean_absolute_error: 0.7066\n",
      "Epoch 8/8\n",
      "751/751 [==============================] - 1s 2ms/step - loss: 0.6557 - mean_absolute_error: 0.6557 - val_loss: 0.7051 - val_mean_absolute_error: 0.7051\n"
     ]
    }
   ],
   "source": [
    "# TODO\n",
    "dims = np.arange(0,9)\n",
    "history = len(dims)*[None]\n",
    "for i,embed_dim in enumerate(dims):\n",
    "    mod = build_model(embed_dim, max_user_idx, max_movie_idx)\n",
    "    opt = Adam(lr=0.01)\n",
    "    mod.compile(optimizer=opt,\n",
    "                loss='mean_absolute_error',\n",
    "                metrics=['mean_absolute_error'])\n",
    "    hist = mod.fit([Xtr[:,0], Xtr[:,1]], ytr, validation_data=([Xts[:,0], Xts[:,1]], yts), \n",
    "                   batch_size=1000, epochs=8)\n",
    "    history[i] = hist.history"
   ]
  },
  {
   "cell_type": "markdown",
   "metadata": {},
   "source": [
    "Plot the training and test loss as a function of the embedding layer. We see we get a minimum with an embedding dimension around 4 or 5."
   ]
  },
  {
   "cell_type": "code",
   "execution_count": 35,
   "metadata": {},
   "outputs": [
    {
     "data": {
      "image/png": "[encoded data removed]",
      "text/plain": [
       "<Figure size 864x432 with 1 Axes>"
      ]
     },
     "metadata": {
      "needs_background": "light"
     },
     "output_type": "display_data"
    }
   ],
   "source": [
    "# considering train and test loss at the final epoch.\n",
    "train_loss_d = []\n",
    "test_loss_d = []\n",
    "for hist in history:\n",
    "    train_loss_d.append(hist['loss'][-1])\n",
    "    test_loss_d.append(hist['val_loss'][-1])\n",
    "    \n",
    "plt.figure(figsize=(12,6))\n",
    "plt.plot(train_loss_d, 'o-', label=\"Train Loss\")\n",
    "plt.plot(test_loss_d, 'o-', label=\"Test Loss\")\n",
    "plt.xlabel(\"Embedding dimension\", fontsize=12)\n",
    "plt.ylabel(\"Loss\", fontsize=12)\n",
    "plt.legend(loc='best', fontsize=12)\n",
    "plt.title(\"Training Loss vs Test Loss for each embedding dimension\", fontsize=12)\n",
    "plt.xticks(np.arange(0,len(dims)), dims)\n",
    "plt.grid()"
   ]
  },
  {
   "cell_type": "markdown",
   "metadata": {},
   "source": [
    "As we can see from the figure above, we get a minimum (test loss) with an embedding dimension of 4."
   ]
  },
  {
   "cell_type": "code",
   "execution_count": null,
   "metadata": {},
   "outputs": [],
   "source": []
  }
 ],
 "metadata": {
  "kernelspec": {
   "display_name": "Python 3",
   "language": "python",
   "name": "python3"
  },
  "language_info": {
   "codemirror_mode": {
    "name": "ipython",
    "version": 3
   },
   "file_extension": ".py",
   "mimetype": "text/x-python",
   "name": "python",
   "nbconvert_exporter": "python",
   "pygments_lexer": "ipython3",
   "version": "3.6.10"
  }
 },
 "nbformat": 4,
 "nbformat_minor": 2
}
