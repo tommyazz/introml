{
 "cells": [
  {
   "cell_type": "markdown",
   "metadata": {},
   "source": [
    "# Lab:  Logistic Regression for Gene Expression Data\n",
    "\n",
    "In this lab, we use logistic regression to predict biological characteristics (\"phenotypes\") from gene expression data.  In addition to the concepts in [breast cancer demo](./demo04_breast_cancer.ipynb), you will learn to:\n",
    "* Handle missing data\n",
    "* Perform binary classification, and evaluating performance using various metrics\n",
    "* Perform multi-class logistic classification, and evaluating performance using accuracy and confusion matrix\n",
    "* Use L1-regularization to promote sparse weights for improved estimation (Grad students only)\n",
    "\n",
    "## Background\n",
    "\n",
    "Genes are the basic unit in the DNA and encode blueprints for proteins.  When proteins are synthesized from a gene, the gene is said to \"express\".  Micro-arrays are devices that measure the expression levels of large numbers of genes in parallel.  By finding correlations between expression levels and phenotypes, scientists can identify possible genetic markers for biological characteristics.\n",
    "\n",
    "The data in this lab comes from:\n",
    "\n",
    "https://archive.ics.uci.edu/ml/datasets/Mice+Protein+Expression\n",
    "\n",
    "In this data, mice were characterized by three properties:\n",
    "* Whether they had down's syndrome (trisomy) or not\n",
    "* Whether they were stimulated to learn or not\n",
    "* Whether they had a drug memantine or a saline control solution.\n",
    "\n",
    "With these three choices, there are 8 possible classes for each mouse.  For each mouse, the expression levels were measured across 77 genes.  We will see if the characteristics can be predicted from the gene expression levels.  This classification could reveal which genes are potentially involved in Down's syndrome and if drugs and learning have any noticeable effects.\n"
   ]
  },
  {
   "cell_type": "markdown",
   "metadata": {},
   "source": [
    "## Load the Data\n",
    "\n",
    "We begin by loading the standard modules."
   ]
  },
  {
   "cell_type": "code",
   "execution_count": 1,
   "metadata": {},
   "outputs": [],
   "source": [
    "import pandas as pd\n",
    "import numpy as np\n",
    "import matplotlib\n",
    "import matplotlib.pyplot as plt\n",
    "%matplotlib inline\n",
    "from sklearn import linear_model, preprocessing\n",
    "from sklearn.model_selection import KFold, train_test_split\n",
    "from sklearn.metrics import precision_recall_fscore_support, confusion_matrix"
   ]
  },
  {
   "cell_type": "markdown",
   "metadata": {},
   "source": [
    "Use the `pd.read_excel` command to read the data from \n",
    "\n",
    "https://archive.ics.uci.edu/ml/machine-learning-databases/00342/Data_Cortex_Nuclear.xls\n",
    "\n",
    "into a dataframe `df`.  Use the `index_col` option to specify that column 0 is the index.  Use the `df.head()` to print the first few rows."
   ]
  },
  {
   "cell_type": "code",
   "execution_count": 2,
   "metadata": {},
   "outputs": [
    {
     "data": {
      "text/html": [
       "<div>\n",
       "<style scoped>\n",
       "    .dataframe tbody tr th:only-of-type {\n",
       "        vertical-align: middle;\n",
       "    }\n",
       "\n",
       "    .dataframe tbody tr th {\n",
       "        vertical-align: top;\n",
       "    }\n",
       "\n",
       "    .dataframe thead th {\n",
       "        text-align: right;\n",
       "    }\n",
       "</style>\n",
       "<table border=\"1\" class=\"dataframe\">\n",
       "  <thead>\n",
       "    <tr style=\"text-align: right;\">\n",
       "      <th></th>\n",
       "      <th>DYRK1A_N</th>\n",
       "      <th>ITSN1_N</th>\n",
       "      <th>BDNF_N</th>\n",
       "      <th>NR1_N</th>\n",
       "      <th>NR2A_N</th>\n",
       "      <th>pAKT_N</th>\n",
       "      <th>pBRAF_N</th>\n",
       "      <th>pCAMKII_N</th>\n",
       "      <th>pCREB_N</th>\n",
       "      <th>pELK_N</th>\n",
       "      <th>...</th>\n",
       "      <th>pCFOS_N</th>\n",
       "      <th>SYP_N</th>\n",
       "      <th>H3AcK18_N</th>\n",
       "      <th>EGR1_N</th>\n",
       "      <th>H3MeK4_N</th>\n",
       "      <th>CaNA_N</th>\n",
       "      <th>Genotype</th>\n",
       "      <th>Treatment</th>\n",
       "      <th>Behavior</th>\n",
       "      <th>class</th>\n",
       "    </tr>\n",
       "    <tr>\n",
       "      <th>MouseID</th>\n",
       "      <th></th>\n",
       "      <th></th>\n",
       "      <th></th>\n",
       "      <th></th>\n",
       "      <th></th>\n",
       "      <th></th>\n",
       "      <th></th>\n",
       "      <th></th>\n",
       "      <th></th>\n",
       "      <th></th>\n",
       "      <th></th>\n",
       "      <th></th>\n",
       "      <th></th>\n",
       "      <th></th>\n",
       "      <th></th>\n",
       "      <th></th>\n",
       "      <th></th>\n",
       "      <th></th>\n",
       "      <th></th>\n",
       "      <th></th>\n",
       "      <th></th>\n",
       "    </tr>\n",
       "  </thead>\n",
       "  <tbody>\n",
       "    <tr>\n",
       "      <th>309_1</th>\n",
       "      <td>0.503644</td>\n",
       "      <td>0.747193</td>\n",
       "      <td>0.430175</td>\n",
       "      <td>2.816329</td>\n",
       "      <td>5.990152</td>\n",
       "      <td>0.218830</td>\n",
       "      <td>0.177565</td>\n",
       "      <td>2.373744</td>\n",
       "      <td>0.232224</td>\n",
       "      <td>1.750936</td>\n",
       "      <td>...</td>\n",
       "      <td>0.108336</td>\n",
       "      <td>0.427099</td>\n",
       "      <td>0.114783</td>\n",
       "      <td>0.131790</td>\n",
       "      <td>0.128186</td>\n",
       "      <td>1.675652</td>\n",
       "      <td>Control</td>\n",
       "      <td>Memantine</td>\n",
       "      <td>C/S</td>\n",
       "      <td>c-CS-m</td>\n",
       "    </tr>\n",
       "    <tr>\n",
       "      <th>309_2</th>\n",
       "      <td>0.514617</td>\n",
       "      <td>0.689064</td>\n",
       "      <td>0.411770</td>\n",
       "      <td>2.789514</td>\n",
       "      <td>5.685038</td>\n",
       "      <td>0.211636</td>\n",
       "      <td>0.172817</td>\n",
       "      <td>2.292150</td>\n",
       "      <td>0.226972</td>\n",
       "      <td>1.596377</td>\n",
       "      <td>...</td>\n",
       "      <td>0.104315</td>\n",
       "      <td>0.441581</td>\n",
       "      <td>0.111974</td>\n",
       "      <td>0.135103</td>\n",
       "      <td>0.131119</td>\n",
       "      <td>1.743610</td>\n",
       "      <td>Control</td>\n",
       "      <td>Memantine</td>\n",
       "      <td>C/S</td>\n",
       "      <td>c-CS-m</td>\n",
       "    </tr>\n",
       "    <tr>\n",
       "      <th>309_3</th>\n",
       "      <td>0.509183</td>\n",
       "      <td>0.730247</td>\n",
       "      <td>0.418309</td>\n",
       "      <td>2.687201</td>\n",
       "      <td>5.622059</td>\n",
       "      <td>0.209011</td>\n",
       "      <td>0.175722</td>\n",
       "      <td>2.283337</td>\n",
       "      <td>0.230247</td>\n",
       "      <td>1.561316</td>\n",
       "      <td>...</td>\n",
       "      <td>0.106219</td>\n",
       "      <td>0.435777</td>\n",
       "      <td>0.111883</td>\n",
       "      <td>0.133362</td>\n",
       "      <td>0.127431</td>\n",
       "      <td>1.926427</td>\n",
       "      <td>Control</td>\n",
       "      <td>Memantine</td>\n",
       "      <td>C/S</td>\n",
       "      <td>c-CS-m</td>\n",
       "    </tr>\n",
       "    <tr>\n",
       "      <th>309_4</th>\n",
       "      <td>0.442107</td>\n",
       "      <td>0.617076</td>\n",
       "      <td>0.358626</td>\n",
       "      <td>2.466947</td>\n",
       "      <td>4.979503</td>\n",
       "      <td>0.222886</td>\n",
       "      <td>0.176463</td>\n",
       "      <td>2.152301</td>\n",
       "      <td>0.207004</td>\n",
       "      <td>1.595086</td>\n",
       "      <td>...</td>\n",
       "      <td>0.111262</td>\n",
       "      <td>0.391691</td>\n",
       "      <td>0.130405</td>\n",
       "      <td>0.147444</td>\n",
       "      <td>0.146901</td>\n",
       "      <td>1.700563</td>\n",
       "      <td>Control</td>\n",
       "      <td>Memantine</td>\n",
       "      <td>C/S</td>\n",
       "      <td>c-CS-m</td>\n",
       "    </tr>\n",
       "    <tr>\n",
       "      <th>309_5</th>\n",
       "      <td>0.434940</td>\n",
       "      <td>0.617430</td>\n",
       "      <td>0.358802</td>\n",
       "      <td>2.365785</td>\n",
       "      <td>4.718679</td>\n",
       "      <td>0.213106</td>\n",
       "      <td>0.173627</td>\n",
       "      <td>2.134014</td>\n",
       "      <td>0.192158</td>\n",
       "      <td>1.504230</td>\n",
       "      <td>...</td>\n",
       "      <td>0.110694</td>\n",
       "      <td>0.434154</td>\n",
       "      <td>0.118481</td>\n",
       "      <td>0.140314</td>\n",
       "      <td>0.148380</td>\n",
       "      <td>1.839730</td>\n",
       "      <td>Control</td>\n",
       "      <td>Memantine</td>\n",
       "      <td>C/S</td>\n",
       "      <td>c-CS-m</td>\n",
       "    </tr>\n",
       "  </tbody>\n",
       "</table>\n",
       "<p>5 rows × 81 columns</p>\n",
       "</div>"
      ],
      "text/plain": [
       "         DYRK1A_N   ITSN1_N    BDNF_N     NR1_N    NR2A_N    pAKT_N   pBRAF_N  \\\n",
       "MouseID                                                                         \n",
       "309_1    0.503644  0.747193  0.430175  2.816329  5.990152  0.218830  0.177565   \n",
       "309_2    0.514617  0.689064  0.411770  2.789514  5.685038  0.211636  0.172817   \n",
       "309_3    0.509183  0.730247  0.418309  2.687201  5.622059  0.209011  0.175722   \n",
       "309_4    0.442107  0.617076  0.358626  2.466947  4.979503  0.222886  0.176463   \n",
       "309_5    0.434940  0.617430  0.358802  2.365785  4.718679  0.213106  0.173627   \n",
       "\n",
       "         pCAMKII_N   pCREB_N    pELK_N  ...   pCFOS_N     SYP_N  H3AcK18_N  \\\n",
       "MouseID                                 ...                                  \n",
       "309_1     2.373744  0.232224  1.750936  ...  0.108336  0.427099   0.114783   \n",
       "309_2     2.292150  0.226972  1.596377  ...  0.104315  0.441581   0.111974   \n",
       "309_3     2.283337  0.230247  1.561316  ...  0.106219  0.435777   0.111883   \n",
       "309_4     2.152301  0.207004  1.595086  ...  0.111262  0.391691   0.130405   \n",
       "309_5     2.134014  0.192158  1.504230  ...  0.110694  0.434154   0.118481   \n",
       "\n",
       "           EGR1_N  H3MeK4_N    CaNA_N  Genotype  Treatment  Behavior   class  \n",
       "MouseID                                                                       \n",
       "309_1    0.131790  0.128186  1.675652   Control  Memantine       C/S  c-CS-m  \n",
       "309_2    0.135103  0.131119  1.743610   Control  Memantine       C/S  c-CS-m  \n",
       "309_3    0.133362  0.127431  1.926427   Control  Memantine       C/S  c-CS-m  \n",
       "309_4    0.147444  0.146901  1.700563   Control  Memantine       C/S  c-CS-m  \n",
       "309_5    0.140314  0.148380  1.839730   Control  Memantine       C/S  c-CS-m  \n",
       "\n",
       "[5 rows x 81 columns]"
      ]
     },
     "execution_count": 2,
     "metadata": {},
     "output_type": "execute_result"
    }
   ],
   "source": [
    "# TODO\n",
    "df = pd.read_excel(\"https://archive.ics.uci.edu/ml/machine-learning-databases/00342/Data_Cortex_Nuclear.xls\",\n",
    "                   index_col=0)\n",
    "df.head()"
   ]
  },
  {
   "cell_type": "markdown",
   "metadata": {},
   "source": [
    "This data has missing values.  The site:\n",
    "\n",
    "http://pandas.pydata.org/pandas-docs/stable/missing_data.html\n",
    "\n",
    "has an excellent summary of methods to deal with missing values.  Following the techniques there, create a new data frame `df1` where the missing values in each column are filled with the mean values from the non-missing values."
   ]
  },
  {
   "cell_type": "code",
   "execution_count": 3,
   "metadata": {},
   "outputs": [
    {
     "name": "stdout",
     "output_type": "stream",
     "text": [
      "(1080, 81)\n",
      "(1080, 81)\n",
      "(1080, 81)\n"
     ]
    }
   ],
   "source": [
    "# TODO\n",
    "print(df.shape)\n",
    "df1 = df.fillna(df.mean())\n",
    "print(df1.shape)\n",
    "df1.dropna() \n",
    "print(df1.shape) # all the nan values have been replaced by the mean along the index axis for each column of the dataframe\n",
    "                 # same shape after attempting to remove possible rows with NaNs with command \"dropna\""
   ]
  },
  {
   "cell_type": "markdown",
   "metadata": {},
   "source": [
    "## Binary Classification for Down's Syndrome\n",
    "\n",
    "We will first predict the binary class label in `df1['Genotype']` which indicates if the mouse has Down's syndrome or not.  Get the string values in `df1['Genotype'].values` and convert this to a numeric vector `y` with 0 or 1.  You may wish to use the `np.unique` command with the `return_inverse=True` option."
   ]
  },
  {
   "cell_type": "code",
   "execution_count": 4,
   "metadata": {},
   "outputs": [],
   "source": [
    "# TODO\n",
    "genotype = np.array(df1['Genotype'])\n",
    "cat, y = np.unique(genotype, return_inverse=True)"
   ]
  },
  {
   "cell_type": "markdown",
   "metadata": {},
   "source": [
    "As predictors, get all but the last four columns of the dataframes.  Standardize the data matrix and call the standardized matrix `Xs`.  The predictors are the expression levels of the 77 genes. "
   ]
  },
  {
   "cell_type": "code",
   "execution_count": 12,
   "metadata": {},
   "outputs": [
    {
     "name": "stdout",
     "output_type": "stream",
     "text": [
      "The shape of the data matrix is: (1080, 77)\n",
      "(1080, 77)\n"
     ]
    }
   ],
   "source": [
    "# TODO\n",
    "num_predictors = 77 # column indeces 0-76\n",
    "predictors = np.array(df1.iloc[:,:num_predictors])\n",
    "print(f\"The shape of the data matrix is: {predictors.shape}\")\n",
    "scaler = preprocessing.StandardScaler() # scaling accoording to (x-u)/s where: u and s are mean and std over each feature column\n",
    "Xs = scaler.fit_transform(predictors)\n",
    "print(Xs.shape)"
   ]
  },
  {
   "cell_type": "markdown",
   "metadata": {},
   "source": [
    "Create a `LogisticRegression` object `logreg` and `fit` the training data. Use `C = 1e5`."
   ]
  },
  {
   "cell_type": "code",
   "execution_count": 14,
   "metadata": {},
   "outputs": [
    {
     "data": {
      "text/plain": [
       "LogisticRegression(C=100000.0, max_iter=500)"
      ]
     },
     "execution_count": 14,
     "metadata": {},
     "output_type": "execute_result"
    }
   ],
   "source": [
    "# TODO\n",
    "logreg = linear_model.LogisticRegression(C=1e5, max_iter=500)\n",
    "logreg.fit(Xs, y)"
   ]
  },
  {
   "cell_type": "markdown",
   "metadata": {},
   "source": [
    "Measure the accuracy of the classifer.  That is, use the `logreg.predict` function to predict labels `yhat` and measure the fraction of time that the predictions match the true labels. Also, plot the ROC curve, and measure the AUC. Later, we will properly measure the accuracy and AUC on cross-validation data."
   ]
  },
  {
   "cell_type": "code",
   "execution_count": 15,
   "metadata": {},
   "outputs": [
    {
     "name": "stdout",
     "output_type": "stream",
     "text": [
      "The accuracy of the classifier is: 1.0\n",
      "The AUC is: 1.0\n"
     ]
    },
    {
     "data": {
      "image/png": "[encoded data removed]",
      "text/plain": [
       "<Figure size 720x360 with 1 Axes>"
      ]
     },
     "metadata": {
      "needs_background": "light"
     },
     "output_type": "display_data"
    }
   ],
   "source": [
    "# TODO\n",
    "yhat = logreg.predict_proba(Xs)\n",
    "print(f\"The accuracy of the classifier is: {np.mean(y == np.argmax(yhat, axis=1))}\")\n",
    "\n",
    "from sklearn import metrics\n",
    "fpr, tpr, thresholds = metrics.roc_curve(y,yhat[:,1])\n",
    "auc = metrics.auc(fpr, tpr)\n",
    "\n",
    "plt.figure(figsize=(10,5))\n",
    "plt.plot(fpr, tpr)\n",
    "plt.grid()\n",
    "plt.xlabel('False Positive Rate', fontsize=12)\n",
    "plt.ylabel('True Positive Rate', fontsize=12)\n",
    "plt.ylim([0,1])\n",
    "plt.xlim([0,0.5])\n",
    "\n",
    "print(f\"The AUC is: {auc}\")"
   ]
  },
  {
   "cell_type": "code",
   "execution_count": 16,
   "metadata": {},
   "outputs": [
    {
     "name": "stdout",
     "output_type": "stream",
     "text": [
      "The accuracy of the classifier is: 0.9629629629629629\n",
      "The AUC is: 0.9922642813267813\n"
     ]
    },
    {
     "data": {
      "image/png": "[encoded data removed]",
      "text/plain": [
       "<Figure size 720x360 with 1 Axes>"
      ]
     },
     "metadata": {
      "needs_background": "light"
     },
     "output_type": "display_data"
    }
   ],
   "source": [
    "# Splitting data between training and test\n",
    "Xtr,Xts,ytr,yts = train_test_split(predictors, y, test_size=0.3)\n",
    "scal = preprocessing.StandardScaler()\n",
    "Xtr_s = scal.fit_transform(Xtr)\n",
    "Xts_s = scal.transform(Xts)\n",
    "\n",
    "logreg_v2 = linear_model.LogisticRegression(C=1e5, max_iter=500)\n",
    "logreg_v2.fit(Xtr_s, ytr)\n",
    "\n",
    "yhat = logreg_v2.predict_proba(Xts_s)\n",
    "print(f\"The accuracy of the classifier is: {np.mean(yts == np.argmax(yhat, axis=1))}\")\n",
    "\n",
    "from sklearn import metrics\n",
    "fpr, tpr, thresholds = metrics.roc_curve(yts,yhat[:,1])\n",
    "auc = metrics.auc(fpr, tpr)\n",
    "\n",
    "plt.figure(figsize=(10,5))\n",
    "plt.plot(fpr, tpr)\n",
    "plt.grid()\n",
    "plt.xlabel('False Positive Rate', fontsize=12)\n",
    "plt.ylabel('True Positive Rate', fontsize=12)\n",
    "plt.ylim([0,1])\n",
    "plt.xlim([0,0.5])\n",
    "\n",
    "print(f\"The AUC is: {auc}\")"
   ]
  },
  {
   "cell_type": "markdown",
   "metadata": {},
   "source": [
    "## Interpreting the weight vector"
   ]
  },
  {
   "cell_type": "markdown",
   "metadata": {},
   "source": [
    "Create a stem plot of the coefficients, `W` in the logistic regression model.  You can get the coefficients from `logreg.coef_`, but you will need to reshape this to a 1D array.  "
   ]
  },
  {
   "cell_type": "code",
   "execution_count": 17,
   "metadata": {},
   "outputs": [
    {
     "data": {
      "text/plain": [
       "Text(0, 0.5, 'coef value')"
      ]
     },
     "execution_count": 17,
     "metadata": {},
     "output_type": "execute_result"
    },
    {
     "data": {
      "image/png": "[encoded data removed]",
      "text/plain": [
       "<Figure size 720x360 with 1 Axes>"
      ]
     },
     "metadata": {
      "needs_background": "light"
     },
     "output_type": "display_data"
    }
   ],
   "source": [
    "# TODO\n",
    "coeff = logreg.coef_\n",
    "plt.figure(figsize=(10,5))\n",
    "plt.stem(coeff.reshape(-1,1))\n",
    "plt.grid()\n",
    "plt.ylabel(\"coef value\", fontsize=12)"
   ]
  },
  {
   "cell_type": "markdown",
   "metadata": {},
   "source": [
    "You should see that `W[i]` is very large for a few components `i`.  These are the genes that are likely to be most involved in Down's Syndrome.  \n",
    "\n",
    "Find the names of the genes for two components `i` where the magnitude of `W[i]` is largest.  "
   ]
  },
  {
   "cell_type": "code",
   "execution_count": 18,
   "metadata": {},
   "outputs": [
    {
     "name": "stdout",
     "output_type": "stream",
     "text": [
      "The genes related to the two components with largest magnitude are: ITSN1_N and BRAF_N\n"
     ]
    }
   ],
   "source": [
    "# TODO\n",
    "abs_coeff = np.abs(coeff.reshape(-1,1))\n",
    "first = np.argmax(abs_coeff)\n",
    "abs_coeff[first] = 0\n",
    "second = np.argmax(abs_coeff)\n",
    "cols = np.array(df1.columns)\n",
    "print(f\"The genes related to the two components with largest magnitude are: {cols[first]} and {cols[second]}\")"
   ]
  },
  {
   "cell_type": "markdown",
   "metadata": {},
   "source": [
    "## Cross Validation\n",
    "\n",
    "The above meaured the accuracy on the training data.  It is more accurate to measure the accuracy on the test data.  Perform 10-fold cross validation and measure the average precision, recall and f1-score, as well as the AUC.  Note, that in performing the cross-validation, you will want to randomly permute the test and training sets using the `shuffle` option.  In this data set, all the samples from each class are bunched together, so shuffling is essential.  Print the mean precision, recall and f1-score and error rate across all the folds."
   ]
  },
  {
   "cell_type": "code",
   "execution_count": 19,
   "metadata": {},
   "outputs": [],
   "source": [
    "# TODO\n",
    "model = linear_model.LogisticRegression(C=1e5, max_iter=1000) \n",
    "nfold = 10\n",
    "kf = KFold(n_splits = nfold, shuffle=True)\n",
    "ac = np.zeros(nfold)\n",
    "err = np.zeros(nfold)\n",
    "pre = np.zeros(nfold)\n",
    "rec = np.zeros(nfold)\n",
    "f1 = np.zeros(nfold)\n",
    "auc = np.zeros(nfold)\n",
    "\n",
    "for i, ind in enumerate(kf.split(predictors)):\n",
    "    \n",
    "    tr_ind, ts_ind = ind\n",
    "    Xtr = predictors[tr_ind, :]\n",
    "    ytr = y[tr_ind]\n",
    "    Xts = predictors[ts_ind, :]\n",
    "    yts = y[ts_ind]\n",
    "    \n",
    "    scal = preprocessing.StandardScaler()\n",
    "    Xtr_s = scal.fit_transform(Xtr)\n",
    "    Xts_s = scal.transform(Xts)    \n",
    "        \n",
    "    model.fit(Xtr_s, ytr)\n",
    "    yhat = model.predict_proba(Xts_s)\n",
    "    \n",
    "    # compute metrics\n",
    "    ac[i] = np.mean(np.argmax(yhat, axis=1) == yts)\n",
    "    err[i] = np.mean(np.argmax(yhat, axis=1) != yts)\n",
    "    pre[i], rec[i], f1[i], _  = precision_recall_fscore_support(yts, np.argmax(yhat, axis=1), average='binary') \n",
    "    auc[i] = metrics.roc_auc_score(yts, yhat[:,1])\n",
    "    \n",
    "acc_m = np.mean(ac)\n",
    "pre_m = np.mean(pre)\n",
    "rec_m = np.mean(rec)\n",
    "f1_m = np.mean(f1)\n",
    "auc_m = np.mean(auc)\n",
    "err_m = np.mean(err)\n",
    "\n",
    "acc_se = np.std(ac)/np.sqrt(nfold-1)\n",
    "pre_se = np.std(pre)/np.sqrt(nfold-1)\n",
    "rec_se = np.std(rec)/np.sqrt(nfold-1)\n",
    "f1_se = np.std(f1)/np.sqrt(nfold-1)\n",
    "auc_se = np.std(auc)/np.sqrt(nfold-1)\n",
    "err_se = np.std(err)/np.sqrt(nfold-1)"
   ]
  },
  {
   "cell_type": "code",
   "execution_count": 20,
   "metadata": {},
   "outputs": [
    {
     "name": "stdout",
     "output_type": "stream",
     "text": [
      "Accuracy: 0.9546296296296296, SE: 0.0048702882216232965\n",
      "Precision: 0.9483577241020784, SE: 0.010586857222594871\n",
      "Recall: 0.9584919890434278, SE: 0.008545363350356227\n",
      "F-1: 0.9526975973465355, SE: 0.004230017424331657\n",
      "AUC: 0.9890694739893396, SE: 0.003087031188948637\n",
      "Error rate: 0.045370370370370366, SE: 0.004870288221623303\n"
     ]
    }
   ],
   "source": [
    "print(f\"Accuracy: {acc_m}, SE: {acc_se}\")\n",
    "print(f\"Precision: {pre_m}, SE: {pre_se}\")\n",
    "print(f\"Recall: {rec_m}, SE: {rec_se}\")\n",
    "print(f\"F-1: {f1_m}, SE: {f1_se}\")\n",
    "print(f\"AUC: {auc_m}, SE: {auc_se}\")\n",
    "print(f\"Error rate: {err_m}, SE: {err_se}\")"
   ]
  },
  {
   "cell_type": "markdown",
   "metadata": {},
   "source": [
    "## Multi-Class Classification\n",
    "\n",
    "Now use the response variable in `df1['class']`.  This has 8 possible classes.  Use the `np.unique` funtion as before to convert this to a vector `y` with values 0 to 7. "
   ]
  },
  {
   "cell_type": "code",
   "execution_count": 21,
   "metadata": {},
   "outputs": [
    {
     "name": "stdout",
     "output_type": "stream",
     "text": [
      "(1080,)\n"
     ]
    }
   ],
   "source": [
    "# TODO\n",
    "classes = np.array(df1['class'])\n",
    "cat, y = np.unique(classes, return_inverse=True)\n",
    "print(y.shape)"
   ]
  },
  {
   "cell_type": "markdown",
   "metadata": {},
   "source": [
    "Fit a multi-class logistic model by creating a `LogisticRegression` object, `logreg` and then calling the `logreg.fit` method. In general, you could either use the 'one over rest (ovr)' option or the 'multinomial' option. In this exercise use the default 'ovr' and `C=1`. As an optional exercise, you could also compare the results obtained with these two options. "
   ]
  },
  {
   "cell_type": "code",
   "execution_count": 22,
   "metadata": {},
   "outputs": [
    {
     "data": {
      "text/plain": [
       "LogisticRegression(C=1, max_iter=500)"
      ]
     },
     "execution_count": 22,
     "metadata": {},
     "output_type": "execute_result"
    }
   ],
   "source": [
    "# TODO\n",
    "logreg = linear_model.LogisticRegression(C=1, max_iter=500)\n",
    "logreg.fit(Xs, y)"
   ]
  },
  {
   "cell_type": "markdown",
   "metadata": {},
   "source": [
    "Measure the accuracy on the training data."
   ]
  },
  {
   "cell_type": "code",
   "execution_count": 23,
   "metadata": {},
   "outputs": [
    {
     "name": "stdout",
     "output_type": "stream",
     "text": [
      "The accuracy on the training data is: 1.0\n"
     ]
    }
   ],
   "source": [
    "# TODO\n",
    "ypred = logreg.predict(Xs)\n",
    "acc = np.mean(ypred == y)\n",
    "print(f\"The accuracy on the training data is: {acc}\")"
   ]
  },
  {
   "cell_type": "markdown",
   "metadata": {},
   "source": [
    "Now perform 10-fold cross validation, and measure the confusion matrix `C` on the test data in each fold. You can use the `confustion_matrix` method in the `sklearn` package.  Add the confusion matrix counts across all folds and then normalize the rows of the confusion matrix so that they sum to one.  Thus, each element `C[i,j]` will represent the fraction of samples where `yhat==j` given `ytrue==i`.  Print the confusion matrix.  You can use the command\n",
    "\n",
    "    print(np.array_str(C, precision=4, suppress_small=True))\n",
    "    \n",
    "to create a nicely formatted print.  Also print the overall mean and SE of the test accuracy across the folds."
   ]
  },
  {
   "cell_type": "code",
   "execution_count": 29,
   "metadata": {},
   "outputs": [],
   "source": [
    "# TODO\n",
    "model = linear_model.LogisticRegression(C=1, max_iter=500) \n",
    "num_classes = 8\n",
    "nfold = 10\n",
    "kf = KFold(n_splits = nfold, shuffle=True)\n",
    "conf_matrix = np.zeros((num_classes, num_classes))\n",
    "ac = np.zeros(nfold)\n",
    "err = np.zeros(nfold)\n",
    "\n",
    "for i, ind in enumerate(kf.split(predictors)):\n",
    "    \n",
    "    tr_ind, ts_ind = ind\n",
    "    Xtr = predictors[tr_ind, :]\n",
    "    ytr = y[tr_ind]\n",
    "    Xts = predictors[ts_ind, :]\n",
    "    yts = y[ts_ind]\n",
    "    \n",
    "    scal = preprocessing.StandardScaler()\n",
    "    Xtr_s = scal.fit_transform(Xtr)\n",
    "    Xts_s = scal.transform(Xts)    \n",
    "        \n",
    "    model.fit(Xtr_s, ytr)\n",
    "    yhat = model.predict(Xts_s)\n",
    "    \n",
    "    # compute metrics\n",
    "    ac[i] = np.mean(yhat == yts)\n",
    "    err[i] = np.mean(yhat != yts)\n",
    "    conf_matrix += confusion_matrix(yts, yhat) "
   ]
  },
  {
   "cell_type": "code",
   "execution_count": 30,
   "metadata": {},
   "outputs": [
    {
     "name": "stdout",
     "output_type": "stream",
     "text": [
      "[[0.9733 0.02   0.     0.     0.0067 0.     0.     0.    ]\n",
      " [0.     0.9852 0.     0.     0.0074 0.0074 0.     0.    ]\n",
      " [0.     0.     1.     0.     0.     0.     0.     0.    ]\n",
      " [0.0148 0.     0.     0.9778 0.     0.     0.     0.0074]\n",
      " [0.     0.0074 0.     0.     0.9926 0.     0.     0.    ]\n",
      " [0.     0.     0.     0.     0.     1.     0.     0.    ]\n",
      " [0.     0.     0.     0.     0.     0.     1.     0.    ]\n",
      " [0.     0.     0.     0.     0.     0.     0.     1.    ]]\n",
      "Accuracy: 0.9907407407407407, SE: 0.0039040464940350394\n",
      "Error rate: 0.009259259259259259, SE: 0.003904046494035036\n"
     ]
    }
   ],
   "source": [
    "conf_scaled = conf_matrix / np.sum(conf_matrix, axis=1)[:,None]\n",
    "print(np.array_str(conf_scaled, precision=4, suppress_small=True))\n",
    "\n",
    "ac_m = np.mean(ac)\n",
    "ac_se = np.std(ac)/np.sqrt(nfold-1)\n",
    "err_m = np.mean(err)\n",
    "err_se = np.std(err)/np.sqrt(nfold-1)\n",
    "print(f\"Accuracy: {ac_m}, SE: {ac_se}\")\n",
    "print(f\"Error rate: {err_m}, SE: {err_se}\")"
   ]
  },
  {
   "cell_type": "code",
   "execution_count": 31,
   "metadata": {},
   "outputs": [
    {
     "data": {
      "text/plain": [
       "<AxesSubplot:>"
      ]
     },
     "execution_count": 31,
     "metadata": {},
     "output_type": "execute_result"
    },
    {
     "data": {
      "image/png": "[encoded data removed]",
      "text/plain": [
       "<Figure size 720x360 with 2 Axes>"
      ]
     },
     "metadata": {},
     "output_type": "display_data"
    }
   ],
   "source": [
    "import seaborn as sn\n",
    "\n",
    "df_cm = pd.DataFrame(conf_scaled, cat, cat)\n",
    "plt.figure(figsize=(10,5))\n",
    "sn.set(font_scale=1.4) # for label size\n",
    "sn.heatmap(df_cm, annot=True, annot_kws={\"size\": 15}) # font size"
   ]
  },
  {
   "cell_type": "markdown",
   "metadata": {},
   "source": [
    "Re-run the logistic regression on the entire training data and get the weight coefficients.  This should be a 8 x 77 matrix.  Create a stem plot of the first row of this matrix to see the coefficients on each of the genes for the first class."
   ]
  },
  {
   "cell_type": "code",
   "execution_count": 32,
   "metadata": {},
   "outputs": [
    {
     "name": "stdout",
     "output_type": "stream",
     "text": [
      "(8, 77)\n"
     ]
    },
    {
     "data": {
      "text/plain": [
       "Text(0.5, 1.0, 'Coefficients for the first class')"
      ]
     },
     "execution_count": 32,
     "metadata": {},
     "output_type": "execute_result"
    },
    {
     "data": {
      "image/png": "[encoded data removed]",
      "text/plain": [
       "<Figure size 720x360 with 1 Axes>"
      ]
     },
     "metadata": {
      "needs_background": "light"
     },
     "output_type": "display_data"
    }
   ],
   "source": [
    "# TODO\n",
    "matplotlib.rc_file_defaults()\n",
    "%matplotlib inline\n",
    "coeffs_ = logreg.coef_\n",
    "print(coeffs_.shape)\n",
    "first_row = coeffs_[0,:]\n",
    "plt.figure(figsize=(10,5))\n",
    "plt.stem(first_row.reshape(-1,1))\n",
    "plt.grid()\n",
    "plt.ylabel(\"coef value\", fontsize=12)\n",
    "plt.title(\"Coefficients for the first class\", fontsize=12)"
   ]
  },
  {
   "cell_type": "markdown",
   "metadata": {
    "collapsed": true
   },
   "source": [
    "## L1-Regularization\n",
    "\n",
    "Graduate students only complete this section.\n",
    "\n",
    "In most genetic problems, only a limited number of the tested genes are likely influence any particular attribute.  Hence, we would expect that the weight coefficients in the logistic regression model should be sparse.  That is, they should be zero on any gene that plays no role in the particular attribute of interest.  Genetic analysis commonly imposes sparsity by adding an l1-penalty term.  Read the `sklearn` [documentation](http://scikit-learn.org/stable/modules/generated/sklearn.linear_model.LogisticRegression.html) on the `LogisticRegression` class to see how to set the l1-penalty and the inverse regularization strength, `C`.\n",
    "\n",
    "Using the model selection strategies from the [prostate cancer analysis demo](../unit03_model_sel/demo03_2_prostate.ipynb), use K-fold cross validation to select an appropriate inverse regularization strength.  \n",
    "* Use 10-fold cross validation \n",
    "* You should select around 20 values of `C`.  It is up to you to find a good range.\n",
    "* For each C and each fold, you should compute the classification error rate \n",
    "* For each C and each fold, you should also determine the nubmer of non-zero coefficients for the first class. For this purpse, you can assume coefficient with magnitude <0.01 as zero."
   ]
  },
  {
   "cell_type": "code",
   "execution_count": 33,
   "metadata": {},
   "outputs": [
    {
     "name": "stdout",
     "output_type": "stream",
     "text": [
      "Finding optimal C among: [1.00000000e-01 1.62377674e-01 2.63665090e-01 4.28133240e-01\n",
      " 6.95192796e-01 1.12883789e+00 1.83298071e+00 2.97635144e+00\n",
      " 4.83293024e+00 7.84759970e+00 1.27427499e+01 2.06913808e+01\n",
      " 3.35981829e+01 5.45559478e+01 8.85866790e+01 1.43844989e+02\n",
      " 2.33572147e+02 3.79269019e+02 6.15848211e+02 1.00000000e+03]\n"
     ]
    }
   ],
   "source": [
    "# TODO\n",
    "c_values = 20\n",
    "cs = np.logspace(-1,3, c_values)\n",
    "print(f\"Finding optimal C among: {cs}\")\n",
    "nfold = 10\n",
    "kf = KFold(n_splits = nfold, shuffle=True)\n",
    "ac = np.zeros((nfold, c_values))\n",
    "err = np.zeros((nfold, c_values))\n",
    "non_zero = np.zeros((nfold, c_values))\n",
    "\n",
    "for i, ind in enumerate(kf.split(predictors)):\n",
    "    \n",
    "    tr_ind, ts_ind = ind\n",
    "    Xtr = predictors[tr_ind, :]\n",
    "    ytr = y[tr_ind]\n",
    "    Xts = predictors[ts_ind, :]\n",
    "    yts = y[ts_ind]\n",
    "    \n",
    "    scal = preprocessing.StandardScaler()\n",
    "    Xtr_s = scal.fit_transform(Xtr)\n",
    "    Xts_s = scal.transform(Xts)    \n",
    "    \n",
    "    for j, c in enumerate(cs):\n",
    "        \n",
    "        model = linear_model.LogisticRegression(C=c, penalty='l1', max_iter=500, solver='liblinear') \n",
    "        model.fit(Xtr_s, ytr)\n",
    "        yhat = model.predict(Xts_s)\n",
    "\n",
    "        # compute metrics\n",
    "        ac[i, j] = np.mean(yhat == yts)\n",
    "        err[i, j] = np.mean(yhat != yts) \n",
    "        coeffs = model.coef_\n",
    "        first_class = coeffs[0,:].reshape(-1,)\n",
    "        nn = first_class[np.abs(first_class) >= 0.01]\n",
    "        non_zero[i, j] = len(nn)"
   ]
  },
  {
   "cell_type": "markdown",
   "metadata": {},
   "source": [
    "Now compute the mean and standard error on the error rate for each `C` and plot the results (Use `errorbar()` method).  Also determine and print the minimum test error rate and corresponding C value. "
   ]
  },
  {
   "cell_type": "code",
   "execution_count": 34,
   "metadata": {},
   "outputs": [
    {
     "data": {
      "image/png": "[encoded data removed]",
      "text/plain": [
       "<Figure size 720x360 with 1 Axes>"
      ]
     },
     "metadata": {
      "needs_background": "light"
     },
     "output_type": "display_data"
    },
    {
     "name": "stdout",
     "output_type": "stream",
     "text": [
      "The minimum test error rate is: 0.007407407407407407\n",
      "Optimal C value with standard rule: 12.742749857031335\n"
     ]
    }
   ],
   "source": [
    "# TODO\n",
    "err_mean = np.mean(err, axis=0)\n",
    "err_se = np.std(err, axis=0)/np.sqrt(nfold-1)\n",
    "\n",
    "plt.figure(figsize=(10,5))\n",
    "plt.errorbar(np.log10(cs), err_mean, yerr=err_se, fmt='-*', capsize=5, ecolor='k', elinewidth=2)\n",
    "plt.xlabel('log10(C)')\n",
    "plt.ylabel('Test Error Rate')\n",
    "plt.ylim(0.0, 0.02)\n",
    "plt.grid()\n",
    "plt.show()\n",
    "\n",
    "arg_min = np.argmin(err_mean)\n",
    "print(f\"The minimum test error rate is: {err_mean[arg_min]}\")\n",
    "print(f\"Optimal C value with standard rule: {cs[arg_min]}\")"
   ]
  },
  {
   "cell_type": "markdown",
   "metadata": {},
   "source": [
    "We see that the minimum error rate is significantly below the classifier that did not use the l1-penalty.  Use the one-standard error rule to determine the optimal `C` and the corresponding test error rate. Note that because `C` is inversely proportional to the regularization strength, you want to select a `C` as *small* as possible while meeting the error target!"
   ]
  },
  {
   "cell_type": "code",
   "execution_count": 35,
   "metadata": {},
   "outputs": [
    {
     "name": "stdout",
     "output_type": "stream",
     "text": [
      "Optimal C value with One SE rule: 1.1288378916846888\n"
     ]
    }
   ],
   "source": [
    "# TODO\n",
    "err_target = err_mean[arg_min] + err_se[arg_min]\n",
    "m = np.where(err_mean <= err_target)[0]\n",
    "C_opt = cs[m[0]]\n",
    "print(f\"Optimal C value with One SE rule: {C_opt}\")"
   ]
  },
  {
   "cell_type": "markdown",
   "metadata": {},
   "source": [
    "**Question:** How does the test error rate compare with the classifier that did not use the l1-penalty? Explain why."
   ]
  },
  {
   "cell_type": "markdown",
   "metadata": {},
   "source": [
    "**Type Answer Here:**\n",
    "The test error rate of the classifier using l1-penalty is lower compared to the one not using l1-penalty (i.e. the one using l2-penalty - the default logistic regression of sklearn library). This is due to the fact that the l1-penalty is able to extrapolate the relevant features for the classification problem, leading to a lower overfitting of the noise in the training data. It has to be said that the performance of the two classifiers are close to each other."
   ]
  },
  {
   "cell_type": "markdown",
   "metadata": {},
   "source": [
    "Now plot the nubmer of non-zero coefficients for the first class for different C values. Also determine and print the number of non-zero coefficients corresponding to C_opt."
   ]
  },
  {
   "cell_type": "code",
   "execution_count": 36,
   "metadata": {},
   "outputs": [
    {
     "data": {
      "image/png": "[encoded data removed]",
      "text/plain": [
       "<Figure size 720x360 with 1 Axes>"
      ]
     },
     "metadata": {
      "needs_background": "light"
     },
     "output_type": "display_data"
    },
    {
     "name": "stdout",
     "output_type": "stream",
     "text": [
      "The number of non-zero coeff for the optimal model (one SE rule) is: 41.1\n"
     ]
    }
   ],
   "source": [
    "# TODO\n",
    "non_zero_mean = np.mean(non_zero, axis=0)\n",
    "non_zero_se = np.std(non_zero, axis=0)/np.sqrt(nfold-1)\n",
    "\n",
    "plt.figure(figsize=(10,5))\n",
    "plt.errorbar(np.log10(cs), non_zero_mean, yerr=non_zero_se, fmt='-*', capsize=5, ecolor='k', elinewidth=2)\n",
    "plt.xlabel('log10(C)')\n",
    "plt.ylabel('# of non-zero coef')\n",
    "plt.grid()\n",
    "plt.show()\n",
    "\n",
    "print(f\"The number of non-zero coeff for the optimal model (one SE rule) is: {non_zero_mean[m[0]]}\")"
   ]
  },
  {
   "cell_type": "markdown",
   "metadata": {},
   "source": [
    "As expected, the number of non-zero coefficients increases when C increases. As such, the regularization level is smaller for high values of C. From the graph, it's clear that the selected range of C values is quite meaningful. For C lower than 10^-1 the regularization is too strong and some useful features are \"lost\", whereas for C greater than 10^3 the model will basically consider all the predictors leading to overfitting."
   ]
  },
  {
   "cell_type": "markdown",
   "metadata": {},
   "source": [
    "For the optimal `C`, fit the model on the entire training data with l1 regularization. Find the resulting weight matrix, `W_l1`.  Plot the first row of this weight matrix and compare it to the first row of the weight matrix without the regularization.  You should see that, with l1-regularization, the weight matrix is much more sparse and hence the roles of particular genes are more clearly visible. Please also compare the accuracy for the training data using optimal `C` with the previous results not using LASSO regularization. Do you expect the accuracy to improve?"
   ]
  },
  {
   "cell_type": "code",
   "execution_count": 37,
   "metadata": {},
   "outputs": [],
   "source": [
    "# TODO\n",
    "model = linear_model.LogisticRegression(C=C_opt, penalty='l1', max_iter=500, solver='liblinear') "
   ]
  },
  {
   "cell_type": "code",
   "execution_count": 38,
   "metadata": {},
   "outputs": [
    {
     "name": "stdout",
     "output_type": "stream",
     "text": [
      "The accuracy is: 0.9990740740740741\n"
     ]
    },
    {
     "data": {
      "image/png": "[encoded data removed]",
      "text/plain": [
       "<Figure size 720x360 with 1 Axes>"
      ]
     },
     "metadata": {
      "needs_background": "light"
     },
     "output_type": "display_data"
    }
   ],
   "source": [
    "model.fit(Xs, y)\n",
    "ypred = model.predict(Xs)\n",
    "accu = np.mean(ypred == y)\n",
    "coeffs = model.coef_\n",
    "first_class = coeffs[0,:]\n",
    "plt.figure(figsize=(10,5))\n",
    "plt.stem(first_class.reshape(-1,1))\n",
    "plt.grid()\n",
    "plt.ylabel(\"coef value\", fontsize=12)\n",
    "plt.title(\"Coefficients for the first class: C_opt\", fontsize=12)\n",
    "\n",
    "print(f\"The accuracy is: {accu}\")"
   ]
  },
  {
   "cell_type": "markdown",
   "metadata": {},
   "source": [
    "The accuracy should not improve since the classifier without LASSO regularization should be able to better fit (overfit) the training data. Therefore, if we measure the accuracy on the traning data the classifier without LASSO should actually perform better."
   ]
  },
  {
   "cell_type": "code",
   "execution_count": null,
   "metadata": {},
   "outputs": [],
   "source": []
  }
 ],
 "metadata": {
  "anaconda-cloud": {},
  "kernelspec": {
   "display_name": "Python 3",
   "language": "python",
   "name": "python3"
  },
  "language_info": {
   "codemirror_mode": {
    "name": "ipython",
    "version": 3
   },
   "file_extension": ".py",
   "mimetype": "text/x-python",
   "name": "python",
   "nbconvert_exporter": "python",
   "pygments_lexer": "ipython3",
   "version": "3.6.10"
  }
 },
 "nbformat": 4,
 "nbformat_minor": 1
}
