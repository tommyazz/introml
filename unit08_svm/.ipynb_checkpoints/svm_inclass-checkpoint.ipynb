{
 "cells": [
  {
   "cell_type": "markdown",
   "metadata": {},
   "source": [
    "# SVM In-Class Exercises\n",
    "\n",
    "In-class exercises to accompnay the video lectures."
   ]
  },
  {
   "cell_type": "code",
   "execution_count": 2,
   "metadata": {},
   "outputs": [],
   "source": [
    "import numpy as np\n",
    "import matplotlib.pyplot as plt"
   ]
  },
  {
   "cell_type": "markdown",
   "metadata": {},
   "source": [
    "## Problem 1.  Margin \n",
    "\n",
    "For the points below with binary labels:\n",
    "*  Create a scatter plot of the points with different markers for the two classes\n",
    "*  Find the weight and bias of the classifier that separates the two classes\n",
    "*  Compute the distance to the classifier boundary for the points\n",
    "*  Find the margin"
   ]
  },
  {
   "cell_type": "code",
   "execution_count": 13,
   "metadata": {},
   "outputs": [
    {
     "name": "stdout",
     "output_type": "stream",
     "text": [
      "[-1.33333333 -0.66666667 -0.08333333  1.25        1.16666667  1.16666667\n",
      "  3.        ]\n",
      "[-1.88561808 -0.59628479 -0.04578685  0.43852901  0.47431745  0.52174919\n",
      "  0.89442719]\n",
      "0.04578685464956309\n"
     ]
    },
    {
     "data": {
      "image/png": "[encoded data removed]",
      "text/plain": [
       "<Figure size 432x288 with 1 Axes>"
      ]
     },
     "metadata": {
      "needs_background": "light"
     },
     "output_type": "display_data"
    }
   ],
   "source": [
    "import numpy as np\n",
    "import matplotlib.pyplot as plt\n",
    "X = np.array([[0.5,0.5], [1,0.5],[0.5,1.75], [0.75,2.75], [1.1,2.2], [2,1], [3,1.5]])\n",
    "y = np.array([1,1,1,0,0,0,0])\n",
    "\n",
    "w = np.array([4/3, 1])\n",
    "b = -2.5\n",
    "\n",
    "S = X.dot(w) + b\n",
    "d = S/np.sqrt(np.sum(X**2, axis=1))\n",
    "print(S)\n",
    "print(d)\n",
    "\n",
    "margin = np.min(np.abs(d))\n",
    "print(margin)\n",
    "\n",
    "plt.figure()\n",
    "plt.scatter(X[:,0], X[:,1],c=y)\n",
    "plt.grid()\n",
    "\n",
    "# TODO"
   ]
  },
  {
   "cell_type": "markdown",
   "metadata": {},
   "source": [
    "## Problem 2.  Minimizing the Hinge Loss\n",
    "\n",
    "For the data below, first create a scatter plot of the points with different markers for the two classes.  You should see that the data is not linearly separable.\n",
    "\n",
    "Then, consider a set of classifiers:\n",
    "\n",
    "    yhat = sign(z),   z = w.dot(x)+b\n",
    "   \n",
    "Use the the `w` below, plot the hinge loss as a function of the bias `b` where the hinge loss is: \n",
    "\n",
    "    J  = sum( maximum(0, 1-ypm*z) )\n",
    "\n",
    "Here `ypm=2*y-1` so that it is a value +1 or -1.  Find the `b` that minimizes the hinge loss and plot the boundary of the classifier."
   ]
  },
  {
   "cell_type": "code",
   "execution_count": 30,
   "metadata": {},
   "outputs": [
    {
     "name": "stdout",
     "output_type": "stream",
     "text": [
      "(9, 1000)\n",
      "(9, 1000)\n",
      "(9, 1000)\n",
      "(1000,)\n",
      "-2.1321321321321323\n"
     ]
    },
    {
     "data": {
      "image/png": "[encoded data removed]",
      "text/plain": [
       "<Figure size 432x288 with 1 Axes>"
      ]
     },
     "metadata": {
      "needs_background": "light"
     },
     "output_type": "display_data"
    },
    {
     "data": {
      "image/png": "[encoded data removed]",
      "text/plain": [
       "<Figure size 432x288 with 1 Axes>"
      ]
     },
     "metadata": {
      "needs_background": "light"
     },
     "output_type": "display_data"
    }
   ],
   "source": [
    "X = np.array([[0.5,0.5], [1,0.5],[0.5,1.75], [2,2], [0.75,0.75], [0.75,2.75], [1.1,2.2], [2,1], [3,1.5]])\n",
    "y = np.array([1,1,1,1,0,0,0,0,0])\n",
    "\n",
    "w = np.array([1.5, 1])\n",
    "w = w / np.linalg.norm(w)\n",
    "b = np.linspace(-10, 10, 1000)\n",
    "\n",
    "z = X.dot(w)[:,None] + b[None,:]\n",
    "print(z.shape)\n",
    "ypm = 2*y-1\n",
    "arg = ypm[:,None]*z\n",
    "print(arg.shape)\n",
    "\n",
    "maxi = np.maximum(0, arg)\n",
    "print(maxi.shape)\n",
    "J = np.sum(maxi, axis=0)\n",
    "print(J.shape)\n",
    "\n",
    "b_min = b[np.argmin(J)]\n",
    "print(b_min)\n",
    "\n",
    "x1 = np.array([0, -b_min*2/3])\n",
    "y1 = np.array([-b_min, 0])\n",
    "\n",
    "plt.figure()\n",
    "plt.plot(b, J)\n",
    "plt.grid()\n",
    "\n",
    "plt.figure()\n",
    "plt.scatter(X[:,0], X[:,1],c=y)\n",
    "plt.plot(x1, y1, label='boundary')\n",
    "plt.grid()"
   ]
  },
  {
   "cell_type": "code",
   "execution_count": 6,
   "metadata": {},
   "outputs": [],
   "source": [
    "# TODO"
   ]
  },
  {
   "cell_type": "code",
   "execution_count": null,
   "metadata": {},
   "outputs": [],
   "source": []
  },
  {
   "cell_type": "code",
   "execution_count": null,
   "metadata": {},
   "outputs": [],
   "source": []
  }
 ],
 "metadata": {
  "kernelspec": {
   "display_name": "Python 3",
   "language": "python",
   "name": "python3"
  },
  "language_info": {
   "codemirror_mode": {
    "name": "ipython",
    "version": 3
   },
   "file_extension": ".py",
   "mimetype": "text/x-python",
   "name": "python",
   "nbconvert_exporter": "python",
   "pygments_lexer": "ipython3",
   "version": "3.6.10"
  }
 },
 "nbformat": 4,
 "nbformat_minor": 4
}
