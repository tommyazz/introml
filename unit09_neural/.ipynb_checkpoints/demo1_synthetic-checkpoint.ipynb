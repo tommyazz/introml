{
 "cells": [
  {
   "cell_type": "markdown",
   "metadata": {},
   "source": [
    "# A First Neural Network Example\n",
    "\n",
    "In this demo, you will learn:\n",
    "* How to construct and train a simple neural network with one hidden layer using the `keras` package\n",
    "* How to get the weights and intermediate layer outputs of a `keras` network after training\n",
    "* How to visualize the weights \n",
    "\n",
    "To illustrate the concepts, we consider a simple 2D classification problem on completely synthetic data. Using synthetic data will allow us to visualize the network more easily.  We will then look at real data in later demos  "
   ]
  },
  {
   "cell_type": "markdown",
   "metadata": {},
   "source": [
    "## Loading Tensorflow and Keras\n",
    "\n",
    "Before starting this demo, you will need to install [Tensorflow](https://www.tensorflow.org/install/).  If you are using [Google colaboratory](https://colab.research.google.com), Tensorflw is already installed.\n",
    "\n",
    "Tensorflow is a powerful and widely-used platform for deep learning.  However, Tensorflow is relatively low level and may be a somewhat difficult to use as a starting point.  In this class, we will use the `keras` package which acts as a high-level wrapper on top of tensorflow that allows you to quickly build and fit models.  In 2018, `keras` was included as part of tensorflow and you do not need to separately install it. Building most neural networks in `keras` is generally much simpler than in raw Tensorflow and is perfect for getting started.  Later, if you want more flexibility, you can learn how to build models in Tensorflow directly.\n",
    "\n",
    "First we check that tensorflow is installed."
   ]
  },
  {
   "cell_type": "code",
   "execution_count": 1,
   "metadata": {
    "scrolled": true
   },
   "outputs": [],
   "source": [
    "import tensorflow as tf"
   ]
  },
  {
   "cell_type": "markdown",
   "metadata": {},
   "source": [
    "We also load some other common packages."
   ]
  },
  {
   "cell_type": "code",
   "execution_count": 2,
   "metadata": {},
   "outputs": [],
   "source": [
    "import numpy as np\n",
    "import matplotlib.pyplot as plt"
   ]
  },
  {
   "cell_type": "markdown",
   "metadata": {
    "collapsed": true
   },
   "source": [
    "## Synthetic Data \n",
    "\n",
    "To illustrate the neural network we generate data with some rule that will create an interesting classification region. "
   ]
  },
  {
   "cell_type": "code",
   "execution_count": 3,
   "metadata": {},
   "outputs": [],
   "source": [
    "nsamp = 400   # number of samples to generate\n",
    "nx = 2        # number of dimensions of each sample\n",
    "\n",
    "# The features are generated uniformly on the square [0,1] x [0,1]\n",
    "X = np.random.uniform(0,1,(nsamp,nx))\n",
    "\n",
    "# The class of each sample is determined by some Gaussian.  The particular function is not important.\n",
    "rsq = (X[:,0]-0.5)**2 + (X[:,1]-0.5)**2\n",
    "z = 10*(np.exp(-8*rsq)-0.5)\n",
    "py = 1/(1+np.exp(-z))\n",
    "u = np.random.uniform(0,1,nsamp)\n",
    "y = (u < py).astype(int)"
   ]
  },
  {
   "cell_type": "markdown",
   "metadata": {},
   "source": [
    "We create a scatter plot of the data.  You can see that it is not linearly seperable.  "
   ]
  },
  {
   "cell_type": "code",
   "execution_count": 4,
   "metadata": {
    "scrolled": true
   },
   "outputs": [
    {
     "data": {
      "image/png": "[encoded data removed]",
      "text/plain": [
       "<Figure size 432x288 with 1 Axes>"
      ]
     },
     "metadata": {
      "needs_background": "light"
     },
     "output_type": "display_data"
    }
   ],
   "source": [
    "I0 = np.where(y==0)[0]\n",
    "I1 = np.where(y==1)[0]\n",
    "plt.plot(X[I0,0], X[I0,1], 'bo')\n",
    "plt.plot(X[I1,0], X[I1,1], 'go')\n",
    "plt.xlabel('$x_0$', fontsize=16)\n",
    "plt.ylabel('$x_1$', fontsize=16)\n",
    "plt.subplots_adjust(bottom=0.2, left=0.2)"
   ]
  },
  {
   "cell_type": "markdown",
   "metadata": {},
   "source": [
    "## Creating a Simple Neural Network."
   ]
  },
  {
   "cell_type": "markdown",
   "metadata": {},
   "source": [
    "We see that the above points are not linearly separable.  We will see if we can build a simple neural network classifier to find a good decision region.  We first import some key sub-packages from `keras`."
   ]
  },
  {
   "cell_type": "code",
   "execution_count": 5,
   "metadata": {},
   "outputs": [],
   "source": [
    "from tensorflow.keras.models import Model, Sequential\n",
    "from tensorflow.keras.layers import Dense, Activation"
   ]
  },
  {
   "cell_type": "markdown",
   "metadata": {},
   "source": [
    "Next, we clear the session.  This is not strictly necessary, but it is good practice as it clears any model layers that you have built before.  Otherwise, they keep hanging around."
   ]
  },
  {
   "cell_type": "code",
   "execution_count": 6,
   "metadata": {},
   "outputs": [],
   "source": [
    "import tensorflow.keras.backend as K\n",
    "K.clear_session()"
   ]
  },
  {
   "cell_type": "markdown",
   "metadata": {},
   "source": [
    "Now we create a very simple network with one hidden layer with `nh=4` hidden units.  There is `nout=1` output unit corresponding to the estimated class label."
   ]
  },
  {
   "cell_type": "code",
   "execution_count": 7,
   "metadata": {},
   "outputs": [],
   "source": [
    "nin = nx  # dimension of input data\n",
    "nh = 4    # number of hidden units\n",
    "nout = 1  # number of outputs = 1 since this is binary\n",
    "model = Sequential()\n",
    "model.add(Dense(units=nh, input_shape=(nx,), activation='sigmoid', name='hidden'))\n",
    "model.add(Dense(units=nout, activation='sigmoid', name='output'))"
   ]
  },
  {
   "cell_type": "markdown",
   "metadata": {},
   "source": [
    "Keras provides a nice command for visualizing the layers.  "
   ]
  },
  {
   "cell_type": "code",
   "execution_count": 8,
   "metadata": {},
   "outputs": [
    {
     "name": "stdout",
     "output_type": "stream",
     "text": [
      "Model: \"sequential\"\n",
      "_________________________________________________________________\n",
      "Layer (type)                 Output Shape              Param #   \n",
      "=================================================================\n",
      "hidden (Dense)               (None, 4)                 12        \n",
      "_________________________________________________________________\n",
      "output (Dense)               (None, 1)                 5         \n",
      "=================================================================\n",
      "Total params: 17\n",
      "Trainable params: 17\n",
      "Non-trainable params: 0\n",
      "_________________________________________________________________\n"
     ]
    }
   ],
   "source": [
    "model.summary()"
   ]
  },
  {
   "cell_type": "markdown",
   "metadata": {},
   "source": [
    "## Training the Network\n",
    "\n",
    "To train the network, we have to select an optimizer and a loss function.  Since this is a binary classification problem, we select the `binary_crossentropy` loss.  For the optimizer, `adam` tends to works well over a wide range of problems and is a good starting point.  We also set the `metrics` that we wish to track during the optimization.  In this case, we select `accuracy` on the training set."
   ]
  },
  {
   "cell_type": "code",
   "execution_count": 9,
   "metadata": {},
   "outputs": [],
   "source": [
    "from tensorflow.keras import optimizers\n",
    "\n",
    "opt = optimizers.Adam(lr=0.01)\n",
    "model.compile(optimizer=opt,\n",
    "              loss='binary_crossentropy',\n",
    "              metrics=['accuracy'])"
   ]
  },
  {
   "cell_type": "markdown",
   "metadata": {},
   "source": [
    "Keras provides a simple method `fit` to run the optimization.  You simply specify the number of epochs and the batch size, both discussed in class."
   ]
  },
  {
   "cell_type": "code",
   "execution_count": 10,
   "metadata": {
    "scrolled": true
   },
   "outputs": [
    {
     "name": "stdout",
     "output_type": "stream",
     "text": [
      "Epoch 1/10\n",
      "4/4 [==============================] - 0s 852us/step - loss: 0.7387 - accuracy: 0.3075\n",
      "Epoch 2/10\n",
      "4/4 [==============================] - 0s 1ms/step - loss: 0.6995 - accuracy: 0.4625\n",
      "Epoch 3/10\n",
      "4/4 [==============================] - 0s 7ms/step - loss: 0.6702 - accuracy: 0.6575\n",
      "Epoch 4/10\n",
      "4/4 [==============================] - 0s 1ms/step - loss: 0.6501 - accuracy: 0.6925\n",
      "Epoch 5/10\n",
      "4/4 [==============================] - 0s 3ms/step - loss: 0.6345 - accuracy: 0.6925\n",
      "Epoch 6/10\n",
      "4/4 [==============================] - 0s 2ms/step - loss: 0.6254 - accuracy: 0.6925\n",
      "Epoch 7/10\n",
      "4/4 [==============================] - 0s 4ms/step - loss: 0.6200 - accuracy: 0.6925\n",
      "Epoch 8/10\n",
      "4/4 [==============================] - 0s 3ms/step - loss: 0.6178 - accuracy: 0.6925\n",
      "Epoch 9/10\n",
      "4/4 [==============================] - 0s 4ms/step - loss: 0.6185 - accuracy: 0.6925\n",
      "Epoch 10/10\n",
      "4/4 [==============================] - 0s 4ms/step - loss: 0.6183 - accuracy: 0.6925\n"
     ]
    },
    {
     "data": {
      "text/plain": [
       "<tensorflow.python.keras.callbacks.History at 0x7fa743323b70>"
      ]
     },
     "execution_count": 10,
     "metadata": {},
     "output_type": "execute_result"
    }
   ],
   "source": [
    "model.fit(X, y, epochs=10, batch_size=100)"
   ]
  },
  {
   "cell_type": "markdown",
   "metadata": {},
   "source": [
    "Unfortunately, for this problem, we need a large number of epochs -- around 1000.  We don't want to print out the progress on each epoch.  So, the code below disables the print outs by setting `verbose=0`.  Then, we run the optimization in 20 iterations with 50 epochs per iteration -- a total of 1000 epochs.  In each iteration, we use the `evaluate` method to get the loss function and accuracy and print that out manually."
   ]
  },
  {
   "cell_type": "code",
   "execution_count": 11,
   "metadata": {},
   "outputs": [
    {
     "name": "stdout",
     "output_type": "stream",
     "text": [
      "epoch=  50 loss=  6.1691e-01 acc=0.69250\n",
      "epoch= 100 loss=  6.1661e-01 acc=0.69250\n",
      "epoch= 150 loss=  6.1653e-01 acc=0.69250\n",
      "epoch= 200 loss=  6.1649e-01 acc=0.69250\n",
      "epoch= 250 loss=  6.1647e-01 acc=0.69250\n",
      "epoch= 300 loss=  6.1646e-01 acc=0.69250\n",
      "epoch= 350 loss=  6.1645e-01 acc=0.69250\n",
      "epoch= 400 loss=  6.1643e-01 acc=0.69250\n",
      "epoch= 450 loss=  6.1642e-01 acc=0.69250\n",
      "epoch= 500 loss=  6.1651e-01 acc=0.69250\n",
      "epoch= 550 loss=  6.1640e-01 acc=0.69250\n",
      "epoch= 600 loss=  6.1641e-01 acc=0.69250\n",
      "epoch= 650 loss=  6.1640e-01 acc=0.69250\n",
      "epoch= 700 loss=  6.1638e-01 acc=0.69250\n",
      "epoch= 750 loss=  6.1642e-01 acc=0.69250\n",
      "epoch= 800 loss=  6.1636e-01 acc=0.69250\n",
      "epoch= 850 loss=  6.1636e-01 acc=0.69250\n",
      "epoch= 900 loss=  6.1635e-01 acc=0.69250\n",
      "epoch= 950 loss=  6.1637e-01 acc=0.69250\n",
      "epoch=1000 loss=  6.1634e-01 acc=0.69250\n"
     ]
    }
   ],
   "source": [
    "nit = 20   # number of training iterations\n",
    "nepoch_per_it = 50  # number of epochs per iterations\n",
    "\n",
    "# Loss, accuracy and epoch per iteration\n",
    "loss = np.zeros(nit)\n",
    "acc = np.zeros(nit)\n",
    "epoch_it = np.zeros(nit)\n",
    "\n",
    "# Main iteration loop\n",
    "for it in range(nit):\n",
    "    \n",
    "    # Continue the fit of the model\n",
    "    init_epoch = it*nepoch_per_it\n",
    "    model.fit(X, y, epochs=nepoch_per_it, batch_size=100, verbose=0)\n",
    "    \n",
    "    # Measure the loss and accuracy on the training data\n",
    "    lossi, acci = model.evaluate(X,y, verbose=0)\n",
    "    epochi = (it+1)*nepoch_per_it\n",
    "    epoch_it[it] = epochi\n",
    "    loss[it] = lossi\n",
    "    acc[it] = acci\n",
    "    print(\"epoch=%4d loss=%12.4e acc=%7.5f\" % (epochi,lossi,acci))"
   ]
  },
  {
   "cell_type": "markdown",
   "metadata": {},
   "source": [
    "We can now plot the loss function and accuracy as a function of the epoch number.  "
   ]
  },
  {
   "cell_type": "code",
   "execution_count": 12,
   "metadata": {},
   "outputs": [
    {
     "data": {
      "image/png": "[encoded data removed]",
      "text/plain": [
       "<Figure size 432x288 with 2 Axes>"
      ]
     },
     "metadata": {
      "needs_background": "light"
     },
     "output_type": "display_data"
    }
   ],
   "source": [
    "epoch_it = np.arange(1,nit+1)*nepoch_per_it\n",
    "plt.subplot(1,2,1)\n",
    "plt.plot(epoch_it, loss)\n",
    "plt.grid()\n",
    "plt.xlabel('Epoch')\n",
    "plt.ylabel('Loss')\n",
    "\n",
    "plt.subplot(1,2,2)\n",
    "plt.plot(epoch_it, acc)\n",
    "plt.grid()\n",
    "plt.xlabel('Epoch')\n",
    "plt.ylabel('Training accuracy')\n",
    "plt.tight_layout()\n",
    "plt.show()"
   ]
  },
  {
   "cell_type": "markdown",
   "metadata": {},
   "source": [
    "Instead of manually measuring the loss and accuracy, we can pass a *callback* function.  This function is automatically called at each batch end.  We can then periodically print the value of the loss and accuracy."
   ]
  },
  {
   "cell_type": "code",
   "execution_count": 13,
   "metadata": {},
   "outputs": [
    {
     "name": "stdout",
     "output_type": "stream",
     "text": [
      "step=     0 loss=  6.2149e-01\n",
      "step=   200 loss=  6.7012e-01\n",
      "step=   400 loss=  6.5091e-01\n",
      "step=   600 loss=  6.3553e-01\n"
     ]
    },
    {
     "data": {
      "text/plain": [
       "<tensorflow.python.keras.callbacks.History at 0x7fa743ecc2b0>"
      ]
     },
     "execution_count": 13,
     "metadata": {},
     "output_type": "execute_result"
    }
   ],
   "source": [
    "import tensorflow.keras.callbacks\n",
    "\n",
    "class PeriodicPrintLoss(tensorflow.keras.callbacks.Callback):\n",
    "    def __init__(self, prt_period=100):\n",
    "        self.prt_period = prt_period\n",
    "        \n",
    "    def on_train_begin(self, logs={}):\n",
    "        self.losses = []\n",
    "        self.step = 0\n",
    "\n",
    "    def on_batch_end(self, batch, logs={}):\n",
    "        # Record the loss\n",
    "        loss = logs.get('loss')\n",
    "        self.losses.append(loss)\n",
    "        \n",
    "        # Print the loss periodically\n",
    "        if (self.step % self.prt_period == 0):\n",
    "            print('step=%6d loss=%12.4e' % (self.step, loss))\n",
    "        self.step += 1\n",
    "        \n",
    "# Compute print period in steps \n",
    "batch_size = 100\n",
    "prt_period = nepoch_per_it*int(nsamp/batch_size)\n",
    "\n",
    "# Create the callback \n",
    "loss_cb = PeriodicPrintLoss(prt_period=prt_period)\n",
    "\n",
    "# Run the fit with the callback\n",
    "model.fit(X, y, epochs=200, batch_size=batch_size, verbose=0, callbacks=[loss_cb])"
   ]
  },
  {
   "cell_type": "markdown",
   "metadata": {},
   "source": [
    "## Visualizing Decision Regions\n",
    "\n",
    "To see how classification rule our neural network learned, we can plot the predicted class probability as a function of `(x_0,x_1)`.  To do this, we create an input matrix `Xplot` with entries that vary over `[0,1] \\times [0,1]`.  We feed that into the trained network and see what the probility `P(y=1|x)` is for each sample.  Then, we plot this like an image."
   ]
  },
  {
   "cell_type": "code",
   "execution_count": 14,
   "metadata": {},
   "outputs": [
    {
     "data": {
      "text/plain": [
       "[<matplotlib.lines.Line2D at 0x7fa7442ad7f0>]"
      ]
     },
     "execution_count": 14,
     "metadata": {},
     "output_type": "execute_result"
    },
    {
     "data": {
      "image/png": "[encoded data removed]",
      "text/plain": [
       "<Figure size 432x288 with 2 Axes>"
      ]
     },
     "metadata": {
      "needs_background": "light"
     },
     "output_type": "display_data"
    }
   ],
   "source": [
    "# Limits to plot the response.\n",
    "xmin = [0,0]\n",
    "xmax = [1,1]\n",
    "\n",
    "# Use meshgrid to create the 2D input\n",
    "nplot = 100\n",
    "x0plot = np.linspace(xmin[0],xmax[1],nplot)\n",
    "x1plot = np.linspace(xmin[0],xmax[1],nplot)\n",
    "x0mat, x1mat = np.meshgrid(x0plot,x1plot)\n",
    "Xplot = np.column_stack([x0mat.ravel(), x1mat.ravel()])\n",
    "\n",
    "# Compute the output \n",
    "yplot = model.predict(Xplot)\n",
    "yplot_mat = yplot[:,0].reshape((nplot, nplot))\n",
    "\n",
    "# Plot the recovered region\n",
    "plt.imshow(np.flipud(yplot_mat), extent=[xmin[0],xmax[0],xmin[0],xmax[1]], cmap=plt.cm.Reds)\n",
    "plt.colorbar()\n",
    "\n",
    "# Overlay the samples\n",
    "I0 = np.where(y==0)[0]\n",
    "I1 = np.where(y==1)[0]\n",
    "plt.plot(X[I0,0], X[I0,1], 'bo')\n",
    "plt.plot(X[I1,0], X[I1,1], 'go')"
   ]
  },
  {
   "cell_type": "markdown",
   "metadata": {},
   "source": [
    "We see that the neural network is able to learn a nonlinear classification region matching the training data points.  To understand how this nonlinear region is realized it is useful to plot the response in the each of the hidden units.  To extract the output of an intermediate layer, we create a new model, `model1` with the outputs set to the hidden layer outputs and then run the `predict` command on that model."
   ]
  },
  {
   "cell_type": "markdown",
   "metadata": {},
   "source": [
    "Each of the hidden units produces one linear decision region.  The final nonlinear region is then formed by taking a weighted combination of these regions."
   ]
  },
  {
   "cell_type": "code",
   "execution_count": 15,
   "metadata": {},
   "outputs": [
    {
     "data": {
      "text/plain": [
       "<matplotlib.colorbar.Colorbar at 0x7fa742fe8a20>"
      ]
     },
     "execution_count": 15,
     "metadata": {},
     "output_type": "execute_result"
    },
    {
     "data": {
      "image/png": "[encoded data removed]",
      "text/plain": [
       "<Figure size 720x288 with 5 Axes>"
      ]
     },
     "metadata": {
      "needs_background": "light"
     },
     "output_type": "display_data"
    }
   ],
   "source": [
    "# Get the response in the hidden units \n",
    "layer_hid = model.get_layer('hidden')\n",
    "model1 = Model(inputs=model.input,\n",
    "               outputs=layer_hid.output)\n",
    "zhid_plot = model1.predict(Xplot)\n",
    "zhid_plot = zhid_plot.reshape((nplot,nplot,nh))\n",
    "\n",
    "# Get the weights in the output layer\n",
    "layer_out = model.get_layer('output')\n",
    "Wo, bo = layer_out.get_weights()\n",
    "\n",
    "fig = plt.figure(figsize=(10, 4))\n",
    "\n",
    "for i in range(nh):\n",
    "\n",
    "    plt.subplot(1,nh,i+1)\n",
    "    zhid_ploti = np.flipud(zhid_plot[:,:,i])\n",
    "    im = plt.imshow(zhid_ploti, extent=[xmin[0],xmax[0],xmin[0],xmax[1]], cmap=plt.cm.Reds)\n",
    "    plt.xticks([])\n",
    "    plt.yticks([])\n",
    "    plt.title('zh{0:d}, Wo={1:4.2f}'.format(i,Wo[i,0]))\n",
    "  \n",
    "fig.subplots_adjust(right=0.85)\n",
    "cbar_ax = fig.add_axes([0.9, 0.30, 0.05, 0.4])\n",
    "fig.colorbar(im, cax=cbar_ax)"
   ]
  },
  {
   "cell_type": "markdown",
   "metadata": {},
   "source": [
    "## Let us print the model parameters. \n",
    "\n",
    "First we print the entire model weights"
   ]
  },
  {
   "cell_type": "code",
   "execution_count": 16,
   "metadata": {},
   "outputs": [
    {
     "name": "stdout",
     "output_type": "stream",
     "text": [
      "Model weights\n",
      "[array([[-0.1323732 , -0.08749411, -0.1935781 ,  0.1746703 ],\n",
      "       [-0.13129163,  0.8683037 , -0.2740503 ,  0.20775001]],\n",
      "      dtype=float32), array([-0.14249732, -0.8356377 ,  0.20519657, -0.12731977], dtype=float32), array([[ 0.37889767],\n",
      "       [-0.90739155],\n",
      "       [ 0.59951663],\n",
      "       [-1.168044  ]], dtype=float32), array([-0.31688118], dtype=float32)]\n"
     ]
    }
   ],
   "source": [
    "g=model.get_weights()\n",
    "print('Model weights')\n",
    "print(g)"
   ]
  },
  {
   "cell_type": "markdown",
   "metadata": {},
   "source": [
    "Now we print individual layer weights"
   ]
  },
  {
   "cell_type": "code",
   "execution_count": 17,
   "metadata": {},
   "outputs": [
    {
     "name": "stdout",
     "output_type": "stream",
     "text": [
      "Wh=\n",
      "[[-0.1323732  -0.08749411 -0.1935781   0.1746703 ]\n",
      " [-0.13129163  0.8683037  -0.2740503   0.20775001]]\n",
      "bh=\n",
      "[-0.14249732 -0.8356377   0.20519657 -0.12731977]\n",
      "Wo=\n",
      "[[ 0.37889767]\n",
      " [-0.90739155]\n",
      " [ 0.59951663]\n",
      " [-1.168044  ]]\n",
      "bo=\n",
      "[-0.31688118]\n"
     ]
    }
   ],
   "source": [
    "layer_hid = model.get_layer('hidden')\n",
    "Wh, bh = layer_hid.get_weights()\n",
    "print('Wh=')\n",
    "print(Wh)\n",
    "print('bh=')\n",
    "print(bh)\n",
    "\n",
    "layer_out = model.get_layer('output')\n",
    "Wo, bo = layer_out.get_weights()\n",
    "print('Wo=')\n",
    "print(Wo)\n",
    "print('bo=')\n",
    "print(bo)\n"
   ]
  },
  {
   "cell_type": "markdown",
   "metadata": {
    "collapsed": true
   },
   "source": [
    "## Computing Gradients via Backpropagation\n",
    "\n",
    "The tensorflow package computes all the gradients manually.  But, we show how to compute the gradients manually via back-propagation manually so you understand the mathematics.  First, we create a function that evaluates the forward pass of the neural network.  That is, it takes the inputs `X` and parameters `param` to output the loss function."
   ]
  },
  {
   "cell_type": "code",
   "execution_count": 18,
   "metadata": {},
   "outputs": [],
   "source": [
    "def forward(param, X, y):\n",
    "    \"\"\"\n",
    "    Computes the BCE loss for a neural network\n",
    "    with one hidden layer and sigmoid activations\n",
    "    \"\"\"\n",
    "    \n",
    "    # Unpack the parameters\n",
    "    Wh, bh, Wo, bo = param\n",
    "    \n",
    "    # Hidden layer\n",
    "    Zh = X.dot(Wh) + bh[None, :]\n",
    "    Uh = 1/(1+np.exp(-Zh))\n",
    "    \n",
    "    # Output layer\n",
    "    zo = Uh.dot(Wo) + bo[None, :]\n",
    "    zo = zo.ravel()\n",
    "    \n",
    "    # Binary cross entropy\n",
    "    loss = np.sum(np.log(1+np.exp(zo))-y*zo)\n",
    "    \n",
    "    return zo, loss\n",
    "    "
   ]
  },
  {
   "cell_type": "markdown",
   "metadata": {},
   "source": [
    "We will test with some initial values."
   ]
  },
  {
   "cell_type": "code",
   "execution_count": 19,
   "metadata": {},
   "outputs": [],
   "source": [
    "# Random initial values\n",
    "Wh = np.random.normal(0,1,(nx,nh))\n",
    "bh = np.random.normal(0,1,(nh,))\n",
    "Wo = np.random.normal(0,1,(nh,nout))\n",
    "bo = np.random.normal(0,1,(nout))\n",
    "param0 = [Wh,bh,Wo,bo]\n",
    "\n",
    "# Compute output on the training data\n",
    "zo, loss = forward(param0, X, y)"
   ]
  },
  {
   "cell_type": "markdown",
   "metadata": {},
   "source": [
    "## In-Class Exercise\n",
    "\n",
    "Complete the following function that computes the loss and gradients for all the four parameters.  I have already written the gradient and loss for the output layers.  Note the use of broadcasting.  You will need to compute the gradients for the hidden layers."
   ]
  },
  {
   "cell_type": "code",
   "execution_count": 66,
   "metadata": {},
   "outputs": [],
   "source": [
    "def loss_eval(param, X, y):\n",
    "    \"\"\"\n",
    "    Evaluates the loss function and gradients \n",
    "    for the neural network\n",
    "    \"\"\"\n",
    "    \n",
    "    # Unpack the parameters\n",
    "    Wh, bh, Wo, bo = param\n",
    "    \n",
    "    # Hidden layer\n",
    "    Zh = X.dot(Wh) + bh[None, :]\n",
    "    Uh = 1/(1+np.exp(-Zh))\n",
    "    \n",
    "    # Output layer\n",
    "    zo = Uh.dot(Wo) + bo[None,:]\n",
    "    zo = zo.ravel()\n",
    "\n",
    "    # Binary cross entropy\n",
    "    loss = np.sum(np.log(1+np.exp(zo))-y*zo)\n",
    "    \n",
    "    # Gradient for the output layer.\n",
    "    # Note the use of broadcasting\n",
    "    grad_dzo = 1/(1+np.exp(-zo))-y\n",
    "    grad_Wo = np.sum(Uh[:,:,None]*grad_dzo[:,None,None], axis=0)\n",
    "    grad_bo = np.sum(grad_dzo)\n",
    "    \n",
    "    # TODO:  Compute gradients for the hidden layer\n",
    "    grad_Uh_ij = grad_dzo[:,None]*Wo.ravel()[None,:]\n",
    "    \n",
    "    grad_sigmoid = Uh*(1-Uh)\n",
    "    grad_Zh_ij = grad_Uh_ij*grad_sigmoid\n",
    "    \n",
    "    grad_Wh = np.sum(grad_Zh_ij[:,None,:]*X[:,:,None], axis=0)\n",
    "    grad_bh = np.sum(grad_Zh_ij, axis=0)\n",
    "    \n",
    "    # Pack the gradients\n",
    "    grad = [grad_Wh, grad_bh, grad_Wo, grad_bo]\n",
    "    \n",
    "    return loss, grad"
   ]
  },
  {
   "cell_type": "markdown",
   "metadata": {},
   "source": [
    "When you are done, try to test your gradient.\n",
    "\n",
    "*  Construct a list of parameters, `param1` with values slightly perturbed from `param0`. \n",
    "*  Evaluate `loss0, grad0` at `param0` and `loss1, grad1` at `param1`\n",
    "*  Compute the actual difference `loss1-loss0`.\n",
    "*  Compute the expected difference which is the sum of the terms: `np.sum(grad0[i]*(param1[i]-param0[i]))`."
   ]
  },
  {
   "cell_type": "code",
   "execution_count": 67,
   "metadata": {},
   "outputs": [
    {
     "name": "stdout",
     "output_type": "stream",
     "text": [
      "Actual change in loss:     -1.2940e-04\n",
      "Predicted change in loss:  -1.2940e-04\n"
     ]
    }
   ],
   "source": [
    "# TODO\n",
    "# Perturb the parameters\n",
    "param1 = []\n",
    "step = 1e-6\n",
    "for i, p0 in enumerate(param0):\n",
    "    p1 = p0 + np.random.normal(0,step,p0.shape)\n",
    "    param1.append(p1)\n",
    "    \n",
    "# Compute the loss and gradient at the parameters    \n",
    "loss0, grad0 = loss_eval(param0, X, y)\n",
    "loss1, grad1 = loss_eval(param1, X, y)\n",
    "\n",
    "# Compute the expected change in loss from the gradient\n",
    "dloss_est = 0\n",
    "for i in range(len(grad0)):\n",
    "    dloss_est += np.sum(grad0[i]*(param1[i]-param0[i]))\n",
    "    \n",
    "# Print the results    \n",
    "print('Actual change in loss:    %12.4e' % (loss1-loss0))\n",
    "print('Predicted change in loss: %12.4e' % dloss_est)"
   ]
  },
  {
   "cell_type": "code",
   "execution_count": null,
   "metadata": {},
   "outputs": [],
   "source": []
  }
 ],
 "metadata": {
  "anaconda-cloud": {},
  "kernelspec": {
   "display_name": "Python 3",
   "language": "python",
   "name": "python3"
  },
  "language_info": {
   "codemirror_mode": {
    "name": "ipython",
    "version": 3
   },
   "file_extension": ".py",
   "mimetype": "text/x-python",
   "name": "python",
   "nbconvert_exporter": "python",
   "pygments_lexer": "ipython3",
   "version": "3.6.10"
  }
 },
 "nbformat": 4,
 "nbformat_minor": 1
}
